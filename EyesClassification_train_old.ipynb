{
  "cells": [
    {
      "cell_type": "code",
      "execution_count": null,
      "metadata": {
        "id": "sbOYKHJ_xpI2"
      },
      "outputs": [],
      "source": [
        "from torchvision import datasets, models\n",
        "from torchvision.transforms import v2\n",
        "\n",
        "import matplotlib.pyplot as plt\n",
        "import time\n",
        "import os\n",
        "from PIL import Image\n",
        "import torchvision\n",
        "import numpy as np\n",
        "\n",
        "import torch\n",
        "\n",
        "# if you have CUDA set it to the active device like this\n",
        "device = \"cuda\" if torch.cuda.is_available() else \"cpu\""
      ]
    },
    {
      "cell_type": "code",
      "source": [
        "from google.colab import drive\n",
        "drive.mount('/content/drive')"
      ],
      "metadata": {
        "colab": {
          "base_uri": "https://localhost:8080/"
        },
        "id": "E4A834WJhAtl",
        "outputId": "f7bead74-37b7-40b7-a84b-ca63b8201813"
      },
      "execution_count": null,
      "outputs": [
        {
          "output_type": "stream",
          "name": "stdout",
          "text": [
            "Mounted at /content/drive\n"
          ]
        }
      ]
    },
    {
      "cell_type": "code",
      "execution_count": null,
      "metadata": {
        "colab": {
          "base_uri": "https://localhost:8080/",
          "height": 36
        },
        "id": "bDWV7_2Cd_Bs",
        "outputId": "105eec90-1b05-4af8-e49b-70c70a72fa30"
      },
      "outputs": [
        {
          "output_type": "execute_result",
          "data": {
            "text/plain": [
              "'cuda'"
            ],
            "application/vnd.google.colaboratory.intrinsic+json": {
              "type": "string"
            }
          },
          "metadata": {},
          "execution_count": 3
        }
      ],
      "source": [
        "device"
      ]
    },
    {
      "cell_type": "markdown",
      "source": [],
      "metadata": {
        "id": "PCVTmhSTeGQW"
      }
    },
    {
      "cell_type": "code",
      "execution_count": null,
      "metadata": {
        "colab": {
          "base_uri": "https://localhost:8080/"
        },
        "id": "pjSrd71_pP34",
        "outputId": "e81bd778-9998-4edb-ad65-b56dc3bae4b0"
      },
      "outputs": [
        {
          "output_type": "execute_result",
          "data": {
            "text/plain": [
              "0"
            ]
          },
          "metadata": {},
          "execution_count": 4
        }
      ],
      "source": [
        "import gc\n",
        "torch.cuda.empty_cache()\n",
        "gc.collect()"
      ]
    },
    {
      "cell_type": "code",
      "execution_count": null,
      "metadata": {
        "id": "uw7W8PFOx1Tv",
        "colab": {
          "base_uri": "https://localhost:8080/"
        },
        "outputId": "6f0f63c1-6c68-4d64-fb99-ebfbbf5e8403"
      },
      "outputs": [
        {
          "output_type": "stream",
          "name": "stderr",
          "text": [
            "/usr/local/lib/python3.10/dist-packages/torchvision/transforms/v2/_deprecated.py:42: UserWarning: The transform `ToTensor()` is deprecated and will be removed in a future release. Instead, please use `v2.Compose([v2.ToImage(), v2.ToDtype(torch.float32, scale=True)])`.Output is equivalent up to float precision.\n",
            "  warnings.warn(\n"
          ]
        }
      ],
      "source": [
        "main_directory = r'/content/drive/MyDrive/Eyes_classification'\n",
        "train_folder = r'/content/drive/MyDrive/Eyes_classification/EyesDataset_labled2/train'\n",
        "test_folder = r'/content/drive/MyDrive/Eyes_classification/EyesDataset_labled2/test'\n",
        "#train_folder = os.path.join(main_directory, 'for YOLO classification','train')\n",
        "#test_folder = os.path.join(main_directory,'for YOLO classification','test')\n",
        "\n",
        "data_transform_train = v2.Compose([\n",
        "        #v2.Resize((227,227)), #for vgg only\n",
        "        #v2.Resize((128,128)), #for vgg only\n",
        "        v2.RandomHorizontalFlip(p=0.5),\n",
        "        #v2.GaussianBlur(kernel_size=(5, 9), sigma=(0.1, 5)),\n",
        "        #v2.RandomAdjustSharpness(sharpness_factor=2, p=0.3),\n",
        "        #v2.RandomAdjustSharpness(sharpness_factor=0, p=0.3),\n",
        "        #v2.ColorJitter(brightness=0.5, contrast=1),\n",
        "        v2.ToTensor(),\n",
        "        #v2.Normalize((0.5, ), (0.5, )),\n",
        "        #v2.Grayscale(),\n",
        "    ])\n",
        "\n",
        "data_transform_test = v2.Compose([\n",
        "        #v2.Resize((227,227)),#for vgg only\n",
        "        #v2.Resize((128,128)), #for vgg only\n",
        "        v2.ToTensor(),\n",
        "        #v2.Normalize((0.5, ), (0.5, )),\n",
        "        #v2.Grayscale(),\n",
        "    ])\n",
        "#BATCH_SIZE = 128 #for vgg\n",
        "#BATCH_SIZE = 1024 #for resnet\n",
        "#BATCH_SIZE = 1500 #for mobilenet\n",
        "BATCH_SIZE = 16 #for small dataset\n",
        "eyes_dataset_train = datasets.ImageFolder(root=train_folder, transform=data_transform_train)\n",
        "eyes_dataset_test = datasets.ImageFolder(root=test_folder, transform=data_transform_test)\n",
        "\n",
        "def collate_fn(batch):\n",
        "    images, labels = [], []\n",
        "    for image, label in batch:\n",
        "        image = torch.tensor(image / 255)\n",
        "        image = image.permute((0, 1, 2)).float()\n",
        "        images.append(image)\n",
        "\n",
        "        label = torch.tensor([label]).float()\n",
        "        labels.append(label)\n",
        "\n",
        "    images = torch.stack(images).to(device)\n",
        "    labels = torch.stack(labels).to(device)\n",
        "    return images, labels\n",
        "\n",
        "\n",
        "train_loader = torch.utils.data.DataLoader(eyes_dataset_train,\n",
        "                                             batch_size=BATCH_SIZE, shuffle=True,\n",
        "                                             collate_fn = collate_fn)\n",
        "test_loader = torch.utils.data.DataLoader(eyes_dataset_test,\n",
        "                                             batch_size=BATCH_SIZE, shuffle=True,\n",
        "                                             collate_fn = collate_fn)"
      ]
    },
    {
      "cell_type": "code",
      "execution_count": null,
      "metadata": {
        "id": "hou8cX8Gd_Bw"
      },
      "outputs": [],
      "source": [
        "def visualize_batch(batch, classes, dataset_type):\n",
        "    # initialize a figure\n",
        "    fig = plt.figure(\"{} batch\".format(dataset_type),\n",
        "        figsize=(8, 8))\n",
        "    # loop over the batch size\n",
        "    for i in range(0, BATCH_SIZE):\n",
        "        # create a subplot\n",
        "        ax = plt.subplot(2, 4, i + 1)\n",
        "        #current_image = test_dataset[index][0]\n",
        "        print(np.shape(batch[0][i]))\n",
        "        image = batch[0][i].permute((0, 2, 1)).float().cpu()\n",
        "        #image = batch[0][i].clone().detach()\n",
        "        print(np.shape(image))\n",
        "        #input_image = torch.tensor(image / 255)\n",
        "        idx = int(batch[1][i].cpu().numpy())\n",
        "        print('idx', idx)\n",
        "        label = classes[idx]\n",
        "        plt.imshow(image, cmap='gray')\n",
        "        plt.title(label)\n",
        "        plt.axis(\"off\")\n",
        "    plt.tight_layout()\n",
        "    plt.show()"
      ]
    },
    {
      "cell_type": "code",
      "execution_count": null,
      "metadata": {
        "id": "bwf39en2x494"
      },
      "outputs": [],
      "source": [
        "# grab a batch from both training and validation dataloader\n",
        "#trainBatch = next(iter(train_loader))\n",
        "#visualize_batch(trainBatch, eyes_dataset_train.classes, \"train\")"
      ]
    },
    {
      "cell_type": "code",
      "execution_count": null,
      "metadata": {
        "id": "aiXPb3VvFGiJ"
      },
      "outputs": [],
      "source": [
        "#testBatch = next(iter(test_loader))\n",
        "#visualize_batch(testBatch, eyes_dataset_test.classes, \"test\")"
      ]
    },
    {
      "cell_type": "markdown",
      "metadata": {
        "id": "-J6DmUBYx8Wj"
      },
      "source": [
        "# Train"
      ]
    },
    {
      "cell_type": "code",
      "source": [
        "!pip install wandb"
      ],
      "metadata": {
        "colab": {
          "base_uri": "https://localhost:8080/"
        },
        "id": "m_L9z0jZhdi4",
        "outputId": "7f4fbec3-faf2-4e8b-a91f-bb1b003d15bf"
      },
      "execution_count": null,
      "outputs": [
        {
          "output_type": "stream",
          "name": "stdout",
          "text": [
            "Collecting wandb\n",
            "  Downloading wandb-0.18.0-py3-none-manylinux_2_17_x86_64.manylinux2014_x86_64.whl.metadata (9.6 kB)\n",
            "Requirement already satisfied: click!=8.0.0,>=7.1 in /usr/local/lib/python3.10/dist-packages (from wandb) (8.1.7)\n",
            "Collecting docker-pycreds>=0.4.0 (from wandb)\n",
            "  Downloading docker_pycreds-0.4.0-py2.py3-none-any.whl.metadata (1.8 kB)\n",
            "Collecting gitpython!=3.1.29,>=1.0.0 (from wandb)\n",
            "  Downloading GitPython-3.1.43-py3-none-any.whl.metadata (13 kB)\n",
            "Requirement already satisfied: platformdirs in /usr/local/lib/python3.10/dist-packages (from wandb) (4.3.2)\n",
            "Requirement already satisfied: protobuf!=4.21.0,!=5.28.0,<6,>=3.19.0 in /usr/local/lib/python3.10/dist-packages (from wandb) (3.20.3)\n",
            "Requirement already satisfied: psutil>=5.0.0 in /usr/local/lib/python3.10/dist-packages (from wandb) (5.9.5)\n",
            "Requirement already satisfied: pyyaml in /usr/local/lib/python3.10/dist-packages (from wandb) (6.0.2)\n",
            "Requirement already satisfied: requests<3,>=2.0.0 in /usr/local/lib/python3.10/dist-packages (from wandb) (2.32.3)\n",
            "Collecting sentry-sdk>=1.0.0 (from wandb)\n",
            "  Downloading sentry_sdk-2.14.0-py2.py3-none-any.whl.metadata (9.7 kB)\n",
            "Collecting setproctitle (from wandb)\n",
            "  Downloading setproctitle-1.3.3-cp310-cp310-manylinux_2_5_x86_64.manylinux1_x86_64.manylinux_2_17_x86_64.manylinux2014_x86_64.whl.metadata (9.9 kB)\n",
            "Requirement already satisfied: setuptools in /usr/local/lib/python3.10/dist-packages (from wandb) (71.0.4)\n",
            "Requirement already satisfied: six>=1.4.0 in /usr/local/lib/python3.10/dist-packages (from docker-pycreds>=0.4.0->wandb) (1.16.0)\n",
            "Collecting gitdb<5,>=4.0.1 (from gitpython!=3.1.29,>=1.0.0->wandb)\n",
            "  Downloading gitdb-4.0.11-py3-none-any.whl.metadata (1.2 kB)\n",
            "Requirement already satisfied: charset-normalizer<4,>=2 in /usr/local/lib/python3.10/dist-packages (from requests<3,>=2.0.0->wandb) (3.3.2)\n",
            "Requirement already satisfied: idna<4,>=2.5 in /usr/local/lib/python3.10/dist-packages (from requests<3,>=2.0.0->wandb) (3.8)\n",
            "Requirement already satisfied: urllib3<3,>=1.21.1 in /usr/local/lib/python3.10/dist-packages (from requests<3,>=2.0.0->wandb) (2.0.7)\n",
            "Requirement already satisfied: certifi>=2017.4.17 in /usr/local/lib/python3.10/dist-packages (from requests<3,>=2.0.0->wandb) (2024.8.30)\n",
            "Collecting smmap<6,>=3.0.1 (from gitdb<5,>=4.0.1->gitpython!=3.1.29,>=1.0.0->wandb)\n",
            "  Downloading smmap-5.0.1-py3-none-any.whl.metadata (4.3 kB)\n",
            "Downloading wandb-0.18.0-py3-none-manylinux_2_17_x86_64.manylinux2014_x86_64.whl (9.5 MB)\n",
            "\u001b[2K   \u001b[90m━━━━━━━━━━━━━━━━━━━━━━━━━━━━━━━━━━━━━━━━\u001b[0m \u001b[32m9.5/9.5 MB\u001b[0m \u001b[31m104.0 MB/s\u001b[0m eta \u001b[36m0:00:00\u001b[0m\n",
            "\u001b[?25hDownloading docker_pycreds-0.4.0-py2.py3-none-any.whl (9.0 kB)\n",
            "Downloading GitPython-3.1.43-py3-none-any.whl (207 kB)\n",
            "\u001b[2K   \u001b[90m━━━━━━━━━━━━━━━━━━━━━━━━━━━━━━━━━━━━━━━━\u001b[0m \u001b[32m207.3/207.3 kB\u001b[0m \u001b[31m21.0 MB/s\u001b[0m eta \u001b[36m0:00:00\u001b[0m\n",
            "\u001b[?25hDownloading sentry_sdk-2.14.0-py2.py3-none-any.whl (311 kB)\n",
            "\u001b[2K   \u001b[90m━━━━━━━━━━━━━━━━━━━━━━━━━━━━━━━━━━━━━━━━\u001b[0m \u001b[32m311.4/311.4 kB\u001b[0m \u001b[31m27.1 MB/s\u001b[0m eta \u001b[36m0:00:00\u001b[0m\n",
            "\u001b[?25hDownloading setproctitle-1.3.3-cp310-cp310-manylinux_2_5_x86_64.manylinux1_x86_64.manylinux_2_17_x86_64.manylinux2014_x86_64.whl (30 kB)\n",
            "Downloading gitdb-4.0.11-py3-none-any.whl (62 kB)\n",
            "\u001b[2K   \u001b[90m━━━━━━━━━━━━━━━━━━━━━━━━━━━━━━━━━━━━━━━━\u001b[0m \u001b[32m62.7/62.7 kB\u001b[0m \u001b[31m5.4 MB/s\u001b[0m eta \u001b[36m0:00:00\u001b[0m\n",
            "\u001b[?25hDownloading smmap-5.0.1-py3-none-any.whl (24 kB)\n",
            "Installing collected packages: smmap, setproctitle, sentry-sdk, docker-pycreds, gitdb, gitpython, wandb\n",
            "Successfully installed docker-pycreds-0.4.0 gitdb-4.0.11 gitpython-3.1.43 sentry-sdk-2.14.0 setproctitle-1.3.3 smmap-5.0.1 wandb-0.18.0\n"
          ]
        }
      ]
    },
    {
      "cell_type": "code",
      "execution_count": null,
      "metadata": {
        "id": "Iqcewam2x7lP"
      },
      "outputs": [],
      "source": [
        "import torch.nn as nn\n",
        "from IPython.display import clear_output\n",
        "from torch import nn\n",
        "from tqdm import tqdm\n",
        "from sklearn.metrics import confusion_matrix, precision_score, recall_score, f1_score\n",
        "import wandb\n",
        "\n",
        "def epoch_train(loader, clf, criterion, opt):\n",
        "\n",
        "    sigmoid = torch.nn.Sigmoid()\n",
        "    avg_loss = 0\n",
        "\n",
        "    num_correct = 0\n",
        "    num_samples = 0\n",
        "    clf.train(True)\n",
        "\n",
        "    for batch, (X, y) in enumerate(loader):\n",
        "\n",
        "\n",
        "        X, y = X.to(device), y.to(device)\n",
        "        # print(np.shape(X)) --- torch.Size([16, 3, 128, 128])\n",
        "        opt.zero_grad()\n",
        "\n",
        "        output = clf(X)\n",
        "        pred = sigmoid(output) #range between 0 and 1\n",
        "        loss = criterion(pred,y)\n",
        "        # Backpropagation\n",
        "        loss.backward()\n",
        "        opt.step()\n",
        "\n",
        "\n",
        "        avg_loss += loss.item()\n",
        "        #print('pred: ', pred) #tensor([[0.4870],[0.5006],[0.4826],\n",
        "        predictions = (pred > 0.6).long()\n",
        "        #print('predictions:', predictions) # tensor([[0],[0],[0],[0],\n",
        "        num_correct += (predictions == y).sum()\n",
        "        num_samples += predictions.size(0)\n",
        "\n",
        "    return avg_loss / len(loader.dataset), float(num_correct)/float(num_samples)\n",
        "\n",
        "\n",
        "def epoch_test(loader, clf, criterion):\n",
        "    sigmoid = torch.nn.Sigmoid()\n",
        "\n",
        "    clf.eval()\n",
        "    avg_loss = 0\n",
        "    num_correct = 0\n",
        "    num_samples = 0\n",
        "    with torch.no_grad():\n",
        "        for batch,(X, y) in enumerate(loader):\n",
        "            X, y = X.to(device), y.to(device)\n",
        "\n",
        "            # Compute prediction error\n",
        "            output = clf(X)\n",
        "            pred = sigmoid(output) #range between 0 and 1\n",
        "            loss = criterion(pred,y)\n",
        "\n",
        "            avg_loss += loss.item()\n",
        "            predictions = (pred > 0.6).long()\n",
        "            #print(predictions)\n",
        "            num_correct += (predictions == y).sum()\n",
        "            num_samples += predictions.size(0)\n",
        "\n",
        "    return avg_loss / len(loader.dataset), float(num_correct)/float(num_samples)\n",
        "\n",
        "\n",
        "\n",
        "def train(train_loader, test_loader, clf, criterion, opt, weight_path, model_name,  n_epochs = 10):\n",
        "    best_test_acc = 0\n",
        "    val_losses = []\n",
        "    train_losses = []\n",
        "    train_acces = []\n",
        "    test_acces = []\n",
        "\n",
        "    for epoch in tqdm(range(n_epochs)):\n",
        "\n",
        "        train_loss, train_acc = epoch_train(train_loader, clf, criterion, opt)\n",
        "        test_loss, test_acc = epoch_test(test_loader, clf, criterion)\n",
        "        train_losses.append(train_loss)\n",
        "        val_losses.append(test_loss)\n",
        "        train_acces.append(train_acc)\n",
        "        test_acces.append(test_acc)\n",
        "        if test_acc > best_test_acc:\n",
        "            best_test_acc = test_acc\n",
        "            torch.save(clf.state_dict(), os.path.join(weight_path, '{}_best_weights.pth'.format(model_name)))\n",
        "\n",
        "        #wandb.log({\"test_accuracy\": test_acc, \"test_loss\": test_loss})\n",
        "        wandb.log({\"train_loss\": float(train_loss), \"test_loss\": float(test_loss), \"train_acc\": float(train_acc), \"test_acc\": float(test_acc)}, step=epoch)\n",
        "        time.sleep(2)\n",
        "        print(f'[Epoch {epoch + 1}] train loss: {train_loss:.3f}; train acc: {train_acc:.3f}; ' +\n",
        "              f'test loss: {test_loss:.3f}; test acc: {test_acc:.3f}')\n",
        "    wandb.finish()\n",
        "    print('best test accuracy =', best_test_acc)\n",
        "    return val_losses, train_losses, train_acces, test_acces"
      ]
    },
    {
      "cell_type": "code",
      "execution_count": null,
      "metadata": {
        "id": "cHIX5PfRd_B1"
      },
      "outputs": [],
      "source": [
        "def custom_mobilenet_v3_small():\n",
        "    model = torchvision.models.mobilenet_v3_small(pretrained = True, progress=True)\n",
        "    model.classifier = torch.nn.Sequential(\n",
        "        torch.nn.Linear(in_features=576, out_features=128, bias=True),\n",
        "        torch.nn.Hardswish(),\n",
        "        torch.nn.Dropout(p=0.2, inplace=True),\n",
        "        torch.nn.Linear(in_features=128, out_features=1, bias=True)\n",
        "    )\n",
        "    return model"
      ]
    },
    {
      "cell_type": "code",
      "execution_count": null,
      "metadata": {
        "id": "v7q_gxvHd_B2"
      },
      "outputs": [],
      "source": [
        "def custom_mobilenet_v3_large():\n",
        "    model = torchvision.models.mobilenet_v3_large(pretrained = True, progress=True)\n",
        "    model.classifier = torch.nn.Sequential(\n",
        "        torch.nn.Linear(in_features=960, out_features=128, bias=True),\n",
        "        torch.nn.Hardswish(),\n",
        "        torch.nn.Dropout(p=0.2, inplace=True),\n",
        "        torch.nn.Linear(in_features=128, out_features=1, bias=True)\n",
        "    )\n",
        "    return model"
      ]
    },
    {
      "cell_type": "code",
      "execution_count": null,
      "metadata": {
        "id": "HOHjMa6hd_B2"
      },
      "outputs": [],
      "source": [
        "def custom_resnet101():\n",
        "    model = torchvision.models.resnet101(pretrained = True, progress=True)\n",
        "    model.fc = torch.nn.Sequential(\n",
        "        torch.nn.Linear(in_features=2048, out_features=1000, bias=True),\n",
        "        torch.nn.ReLU(inplace=True),\n",
        "        torch.nn.Dropout(p=0.2, inplace=False),\n",
        "        torch.nn.Linear(in_features=1000, out_features=1, bias=True)\n",
        "    )\n",
        "    return model"
      ]
    },
    {
      "cell_type": "code",
      "execution_count": null,
      "metadata": {
        "id": "YPAjFbVKd_B2"
      },
      "outputs": [],
      "source": [
        "def custom_resnet18():\n",
        "    model = torchvision.models.resnet18(pretrained = True, progress=True)\n",
        "    model.fc = torch.nn.Sequential(\n",
        "        torch.nn.Linear(in_features=512, out_features=256, bias=True),\n",
        "        torch.nn.ReLU(inplace=True),\n",
        "        torch.nn.Dropout(p=0.2, inplace=False),\n",
        "        torch.nn.Linear(in_features=256, out_features=1, bias=True)\n",
        "    )\n",
        "    return model"
      ]
    },
    {
      "cell_type": "code",
      "execution_count": null,
      "metadata": {
        "id": "oG35rc_5d_B2"
      },
      "outputs": [],
      "source": [
        "def custom_resnet50():\n",
        "    model = torchvision.models.resnet50(pretrained = True, progress=True)\n",
        "    model.fc = torch.nn.Sequential(\n",
        "        torch.nn.Linear(in_features=2048, out_features=1000, bias=True),\n",
        "        torch.nn.ReLU(inplace=True),\n",
        "        torch.nn.Dropout(p=0.2, inplace=False),\n",
        "        torch.nn.Linear(in_features=1000, out_features=1, bias=True)\n",
        "    )\n",
        "    return model"
      ]
    },
    {
      "cell_type": "code",
      "execution_count": null,
      "metadata": {
        "id": "wezrL165d_B2"
      },
      "outputs": [],
      "source": [
        "def custom_vgg16():\n",
        "    model = torchvision.models.vgg16(pretrained = True, progress=True)\n",
        "    model.classifier = torch.nn.Sequential(\n",
        "        torch.nn.Linear(in_features=25088, out_features=4096, bias=True),\n",
        "        torch.nn.ReLU(inplace=True),\n",
        "        torch.nn.Dropout(p=0.5, inplace=False),\n",
        "        torch.nn.Linear(in_features=4096, out_features=274, bias=True),\n",
        "        torch.nn.ReLU(inplace=True),\n",
        "        torch.nn.Dropout(p=0.5, inplace=False),\n",
        "        torch.nn.Linear(in_features=274, out_features=1, bias=True),\n",
        "    )\n",
        "    return model"
      ]
    },
    {
      "cell_type": "code",
      "execution_count": null,
      "metadata": {
        "id": "CAmQUXr-yD4J",
        "colab": {
          "base_uri": "https://localhost:8080/"
        },
        "outputId": "2c5cdee5-335f-49e8-cdde-d663e8ccb0e4"
      },
      "outputs": [
        {
          "output_type": "stream",
          "name": "stderr",
          "text": [
            "/usr/local/lib/python3.10/dist-packages/torchvision/models/_utils.py:208: UserWarning: The parameter 'pretrained' is deprecated since 0.13 and may be removed in the future, please use 'weights' instead.\n",
            "  warnings.warn(\n",
            "/usr/local/lib/python3.10/dist-packages/torchvision/models/_utils.py:223: UserWarning: Arguments other than a weight enum or `None` for 'weights' are deprecated since 0.13 and may be removed in the future. The current behavior is equivalent to passing `weights=ResNet50_Weights.IMAGENET1K_V1`. You can also use `weights=ResNet50_Weights.DEFAULT` to get the most up-to-date weights.\n",
            "  warnings.warn(msg)\n",
            "Downloading: \"https://download.pytorch.org/models/resnet50-0676ba61.pth\" to /root/.cache/torch/hub/checkpoints/resnet50-0676ba61.pth\n",
            "100%|██████████| 97.8M/97.8M [00:01<00:00, 91.3MB/s]\n"
          ]
        }
      ],
      "source": [
        "from torchvision.models import resnet50, ResNet50_Weights\n",
        "\n",
        "N_EPOCHS = 30\n",
        "#model = models.vgg16(pretrained= True)\n",
        "model = custom_resnet50()\n",
        "#model = torchvision.models.resnet101(pretrained= True)\n",
        "#model = torchvision.models.mobilenet_v3_large(pretrained = True, progress=True)\n",
        "model.to(device)\n",
        "model_name = 'custom_resnet50'\n",
        "opt = torch.optim.Adam(model.parameters(), lr=0.001)\n",
        "criterion = torch.nn.BCELoss()\n",
        "#criterion = torch.nn.BCEWithLogitsLoss()"
      ]
    },
    {
      "cell_type": "code",
      "execution_count": null,
      "metadata": {
        "colab": {
          "base_uri": "https://localhost:8080/"
        },
        "id": "g4xUoVFEyJHW",
        "outputId": "57f79b07-a011-40c0-a8ac-be5f6540f5c3"
      },
      "outputs": [
        {
          "name": "stderr",
          "output_type": "stream",
          "text": [
            "Failed to detect the name of this notebook, you can set it manually with the WANDB_NOTEBOOK_NAME environment variable to enable code saving.\n",
            "\u001b[34m\u001b[1mwandb\u001b[0m: Currently logged in as: \u001b[33manna-ilyushina20\u001b[0m. Use \u001b[1m`wandb login --relogin`\u001b[0m to force relogin\n"
          ]
        },
        {
          "data": {
            "text/html": [
              "Tracking run with wandb version 0.17.9"
            ],
            "text/plain": [
              "<IPython.core.display.HTML object>"
            ]
          },
          "metadata": {},
          "output_type": "display_data"
        },
        {
          "data": {
            "text/html": [
              "Run data is saved locally in <code>c:\\Anna_iliushina_test\\wandb\\run-20240912_222043-7ixjtctd</code>"
            ],
            "text/plain": [
              "<IPython.core.display.HTML object>"
            ]
          },
          "metadata": {},
          "output_type": "display_data"
        },
        {
          "data": {
            "text/html": [
              "Syncing run <strong><a href='https://wandb.ai/anna-ilyushina20/Eyes_open_close_classification/runs/7ixjtctd' target=\"_blank\">fanciful-fog-78</a></strong> to <a href='https://wandb.ai/anna-ilyushina20/Eyes_open_close_classification' target=\"_blank\">Weights & Biases</a> (<a href='https://wandb.me/run' target=\"_blank\">docs</a>)<br/>"
            ],
            "text/plain": [
              "<IPython.core.display.HTML object>"
            ]
          },
          "metadata": {},
          "output_type": "display_data"
        },
        {
          "data": {
            "text/html": [
              " View project at <a href='https://wandb.ai/anna-ilyushina20/Eyes_open_close_classification' target=\"_blank\">https://wandb.ai/anna-ilyushina20/Eyes_open_close_classification</a>"
            ],
            "text/plain": [
              "<IPython.core.display.HTML object>"
            ]
          },
          "metadata": {},
          "output_type": "display_data"
        },
        {
          "data": {
            "text/html": [
              " View run at <a href='https://wandb.ai/anna-ilyushina20/Eyes_open_close_classification/runs/7ixjtctd' target=\"_blank\">https://wandb.ai/anna-ilyushina20/Eyes_open_close_classification/runs/7ixjtctd</a>"
            ],
            "text/plain": [
              "<IPython.core.display.HTML object>"
            ]
          },
          "metadata": {},
          "output_type": "display_data"
        },
        {
          "name": "stderr",
          "output_type": "stream",
          "text": [
            "  0%|          | 0/30 [00:00<?, ?it/s]C:\\Users\\user\\AppData\\Local\\Temp\\ipykernel_32732\\3067089176.py:37: UserWarning: To copy construct from a tensor, it is recommended to use sourceTensor.clone().detach() or sourceTensor.clone().detach().requires_grad_(True), rather than torch.tensor(sourceTensor).\n",
            "  image = torch.tensor(image / 255)\n",
            "  3%|▎         | 1/30 [00:06<03:03,  6.33s/it]"
          ]
        },
        {
          "name": "stdout",
          "output_type": "stream",
          "text": [
            "[Epoch 1] train loss: 0.026; train acc: 0.801; test loss: 0.090; test acc: 0.544\n"
          ]
        },
        {
          "name": "stderr",
          "output_type": "stream",
          "text": [
            "  7%|▋         | 2/30 [00:12<02:48,  6.01s/it]"
          ]
        },
        {
          "name": "stdout",
          "output_type": "stream",
          "text": [
            "[Epoch 2] train loss: 0.018; train acc: 0.886; test loss: 0.154; test acc: 0.544\n"
          ]
        },
        {
          "name": "stderr",
          "output_type": "stream",
          "text": [
            " 10%|█         | 3/30 [00:17<02:40,  5.95s/it]"
          ]
        },
        {
          "name": "stdout",
          "output_type": "stream",
          "text": [
            "[Epoch 3] train loss: 0.015; train acc: 0.903; test loss: 0.097; test acc: 0.544\n"
          ]
        },
        {
          "name": "stderr",
          "output_type": "stream",
          "text": [
            " 13%|█▎        | 4/30 [00:27<03:15,  7.52s/it]"
          ]
        },
        {
          "name": "stdout",
          "output_type": "stream",
          "text": [
            "[Epoch 4] train loss: 0.013; train acc: 0.916; test loss: 0.158; test acc: 0.622\n"
          ]
        },
        {
          "name": "stderr",
          "output_type": "stream",
          "text": [
            " 17%|█▋        | 5/30 [00:38<03:31,  8.46s/it]"
          ]
        },
        {
          "name": "stdout",
          "output_type": "stream",
          "text": [
            "[Epoch 5] train loss: 0.011; train acc: 0.929; test loss: 0.026; test acc: 0.825\n"
          ]
        },
        {
          "name": "stderr",
          "output_type": "stream",
          "text": [
            " 20%|██        | 6/30 [00:47<03:32,  8.86s/it]"
          ]
        },
        {
          "name": "stdout",
          "output_type": "stream",
          "text": [
            "[Epoch 6] train loss: 0.012; train acc: 0.927; test loss: 0.012; test acc: 0.922\n"
          ]
        },
        {
          "name": "stderr",
          "output_type": "stream",
          "text": [
            " 23%|██▎       | 7/30 [00:57<03:28,  9.05s/it]"
          ]
        },
        {
          "name": "stdout",
          "output_type": "stream",
          "text": [
            "[Epoch 7] train loss: 0.014; train acc: 0.929; test loss: 0.015; test acc: 0.922\n"
          ]
        },
        {
          "name": "stderr",
          "output_type": "stream",
          "text": [
            " 27%|██▋       | 8/30 [01:06<03:21,  9.17s/it]"
          ]
        },
        {
          "name": "stdout",
          "output_type": "stream",
          "text": [
            "[Epoch 8] train loss: 0.011; train acc: 0.934; test loss: 0.012; test acc: 0.914\n"
          ]
        },
        {
          "name": "stderr",
          "output_type": "stream",
          "text": [
            " 30%|███       | 9/30 [01:16<03:14,  9.26s/it]"
          ]
        },
        {
          "name": "stdout",
          "output_type": "stream",
          "text": [
            "[Epoch 9] train loss: 0.009; train acc: 0.940; test loss: 0.012; test acc: 0.924\n"
          ]
        },
        {
          "name": "stderr",
          "output_type": "stream",
          "text": [
            " 33%|███▎      | 10/30 [01:25<03:06,  9.33s/it]"
          ]
        },
        {
          "name": "stdout",
          "output_type": "stream",
          "text": [
            "[Epoch 10] train loss: 0.009; train acc: 0.943; test loss: 0.013; test acc: 0.922\n"
          ]
        },
        {
          "name": "stderr",
          "output_type": "stream",
          "text": [
            " 37%|███▋      | 11/30 [01:35<02:58,  9.39s/it]"
          ]
        },
        {
          "name": "stdout",
          "output_type": "stream",
          "text": [
            "[Epoch 11] train loss: 0.009; train acc: 0.946; test loss: 0.010; test acc: 0.940\n"
          ]
        },
        {
          "name": "stderr",
          "output_type": "stream",
          "text": [
            " 40%|████      | 12/30 [01:44<02:49,  9.44s/it]"
          ]
        },
        {
          "name": "stdout",
          "output_type": "stream",
          "text": [
            "[Epoch 12] train loss: 0.008; train acc: 0.953; test loss: 0.017; test acc: 0.911\n"
          ]
        },
        {
          "name": "stderr",
          "output_type": "stream",
          "text": [
            " 43%|████▎     | 13/30 [01:53<02:40,  9.42s/it]"
          ]
        },
        {
          "name": "stdout",
          "output_type": "stream",
          "text": [
            "[Epoch 13] train loss: 0.007; train acc: 0.958; test loss: 0.017; test acc: 0.888\n"
          ]
        },
        {
          "name": "stderr",
          "output_type": "stream",
          "text": [
            " 47%|████▋     | 14/30 [02:03<02:30,  9.41s/it]"
          ]
        },
        {
          "name": "stdout",
          "output_type": "stream",
          "text": [
            "[Epoch 14] train loss: 0.007; train acc: 0.956; test loss: 0.011; test acc: 0.931\n"
          ]
        },
        {
          "name": "stderr",
          "output_type": "stream",
          "text": [
            " 50%|█████     | 15/30 [02:12<02:22,  9.48s/it]"
          ]
        },
        {
          "name": "stdout",
          "output_type": "stream",
          "text": [
            "[Epoch 15] train loss: 0.008; train acc: 0.955; test loss: 0.012; test acc: 0.926\n"
          ]
        },
        {
          "name": "stderr",
          "output_type": "stream",
          "text": [
            " 53%|█████▎    | 16/30 [02:22<02:12,  9.48s/it]"
          ]
        },
        {
          "name": "stdout",
          "output_type": "stream",
          "text": [
            "[Epoch 16] train loss: 0.007; train acc: 0.955; test loss: 0.010; test acc: 0.945\n"
          ]
        },
        {
          "name": "stderr",
          "output_type": "stream",
          "text": [
            " 57%|█████▋    | 17/30 [02:31<02:02,  9.46s/it]"
          ]
        },
        {
          "name": "stdout",
          "output_type": "stream",
          "text": [
            "[Epoch 17] train loss: 0.007; train acc: 0.957; test loss: 0.017; test acc: 0.895\n"
          ]
        },
        {
          "name": "stderr",
          "output_type": "stream",
          "text": [
            " 60%|██████    | 18/30 [02:41<01:53,  9.44s/it]"
          ]
        },
        {
          "name": "stdout",
          "output_type": "stream",
          "text": [
            "[Epoch 18] train loss: 0.007; train acc: 0.958; test loss: 0.013; test acc: 0.921\n"
          ]
        },
        {
          "name": "stderr",
          "output_type": "stream",
          "text": [
            " 63%|██████▎   | 19/30 [02:50<01:43,  9.43s/it]"
          ]
        },
        {
          "name": "stdout",
          "output_type": "stream",
          "text": [
            "[Epoch 19] train loss: 0.006; train acc: 0.961; test loss: 0.015; test acc: 0.911\n"
          ]
        },
        {
          "name": "stderr",
          "output_type": "stream",
          "text": [
            " 67%|██████▋   | 20/30 [03:00<01:34,  9.46s/it]"
          ]
        },
        {
          "name": "stdout",
          "output_type": "stream",
          "text": [
            "[Epoch 20] train loss: 0.006; train acc: 0.959; test loss: 0.011; test acc: 0.929\n"
          ]
        },
        {
          "name": "stderr",
          "output_type": "stream",
          "text": [
            " 70%|███████   | 21/30 [03:09<01:25,  9.45s/it]"
          ]
        },
        {
          "name": "stdout",
          "output_type": "stream",
          "text": [
            "[Epoch 21] train loss: 0.006; train acc: 0.966; test loss: 0.028; test acc: 0.805\n"
          ]
        },
        {
          "name": "stderr",
          "output_type": "stream",
          "text": [
            " 73%|███████▎  | 22/30 [03:19<01:15,  9.50s/it]"
          ]
        },
        {
          "name": "stdout",
          "output_type": "stream",
          "text": [
            "[Epoch 22] train loss: 0.006; train acc: 0.962; test loss: 0.012; test acc: 0.922\n"
          ]
        },
        {
          "name": "stderr",
          "output_type": "stream",
          "text": [
            " 77%|███████▋  | 23/30 [03:28<01:06,  9.51s/it]"
          ]
        },
        {
          "name": "stdout",
          "output_type": "stream",
          "text": [
            "[Epoch 23] train loss: 0.005; train acc: 0.975; test loss: 0.014; test acc: 0.927\n"
          ]
        },
        {
          "name": "stderr",
          "output_type": "stream",
          "text": [
            " 80%|████████  | 24/30 [03:38<00:56,  9.49s/it]"
          ]
        },
        {
          "name": "stdout",
          "output_type": "stream",
          "text": [
            "[Epoch 24] train loss: 0.005; train acc: 0.968; test loss: 0.014; test acc: 0.901\n"
          ]
        },
        {
          "name": "stderr",
          "output_type": "stream",
          "text": [
            " 83%|████████▎ | 25/30 [03:47<00:47,  9.47s/it]"
          ]
        },
        {
          "name": "stdout",
          "output_type": "stream",
          "text": [
            "[Epoch 25] train loss: 0.005; train acc: 0.972; test loss: 0.012; test acc: 0.914\n"
          ]
        },
        {
          "name": "stderr",
          "output_type": "stream",
          "text": [
            " 87%|████████▋ | 26/30 [03:57<00:37,  9.43s/it]"
          ]
        },
        {
          "name": "stdout",
          "output_type": "stream",
          "text": [
            "[Epoch 26] train loss: 0.005; train acc: 0.973; test loss: 0.017; test acc: 0.916\n"
          ]
        },
        {
          "name": "stderr",
          "output_type": "stream",
          "text": [
            " 90%|█████████ | 27/30 [04:06<00:28,  9.43s/it]"
          ]
        },
        {
          "name": "stdout",
          "output_type": "stream",
          "text": [
            "[Epoch 27] train loss: 0.005; train acc: 0.971; test loss: 0.020; test acc: 0.873\n"
          ]
        },
        {
          "name": "stderr",
          "output_type": "stream",
          "text": [
            " 93%|█████████▎| 28/30 [04:12<00:16,  8.43s/it]"
          ]
        },
        {
          "name": "stdout",
          "output_type": "stream",
          "text": [
            "[Epoch 28] train loss: 0.005; train acc: 0.971; test loss: 0.017; test acc: 0.900\n"
          ]
        },
        {
          "name": "stderr",
          "output_type": "stream",
          "text": [
            " 97%|█████████▋| 29/30 [04:18<00:07,  7.67s/it]"
          ]
        },
        {
          "name": "stdout",
          "output_type": "stream",
          "text": [
            "[Epoch 29] train loss: 0.004; train acc: 0.975; test loss: 0.012; test acc: 0.930\n"
          ]
        },
        {
          "name": "stderr",
          "output_type": "stream",
          "text": [
            "100%|██████████| 30/30 [04:28<00:00,  8.94s/it]"
          ]
        },
        {
          "ename": "",
          "evalue": "",
          "output_type": "error",
          "traceback": [
            "\u001b[1;31mThe Kernel crashed while executing code in the current cell or a previous cell. \n",
            "\u001b[1;31mPlease review the code in the cell(s) to identify a possible cause of the failure. \n",
            "\u001b[1;31mClick <a href='https://aka.ms/vscodeJupyterKernelCrash'>here</a> for more info. \n",
            "\u001b[1;31mView Jupyter <a href='command:jupyter.viewOutput'>log</a> for further details."
          ]
        }
      ],
      "source": [
        "# start a new wandb run to track this script\n",
        "wandb.init(\n",
        "    # set the wandb project where this run will be logged\n",
        "    project=\"Eyes_open_close_classification\",\n",
        ")\n",
        "\n",
        "weight_path = os.path.join(main_directory, 'weights')\n",
        "val_losses, train_losses, train_acces, test_acces = train(train_loader, test_loader, model, criterion, opt, weight_path, model_name, n_epochs=N_EPOCHS)"
      ]
    },
    {
      "cell_type": "markdown",
      "metadata": {
        "id": "xpZtnnuapP38"
      },
      "source": [
        "# VALIDATION"
      ]
    },
    {
      "cell_type": "code",
      "execution_count": null,
      "metadata": {
        "colab": {
          "base_uri": "https://localhost:8080/"
        },
        "id": "Jb6a7bZ-n5Q2",
        "outputId": "c6426c27-12d7-4c73-e8db-790761758420"
      },
      "outputs": [
        {
          "output_type": "execute_result",
          "data": {
            "text/plain": [
              "ResNet(\n",
              "  (conv1): Conv2d(3, 64, kernel_size=(7, 7), stride=(2, 2), padding=(3, 3), bias=False)\n",
              "  (bn1): BatchNorm2d(64, eps=1e-05, momentum=0.1, affine=True, track_running_stats=True)\n",
              "  (relu): ReLU(inplace=True)\n",
              "  (maxpool): MaxPool2d(kernel_size=3, stride=2, padding=1, dilation=1, ceil_mode=False)\n",
              "  (layer1): Sequential(\n",
              "    (0): Bottleneck(\n",
              "      (conv1): Conv2d(64, 64, kernel_size=(1, 1), stride=(1, 1), bias=False)\n",
              "      (bn1): BatchNorm2d(64, eps=1e-05, momentum=0.1, affine=True, track_running_stats=True)\n",
              "      (conv2): Conv2d(64, 64, kernel_size=(3, 3), stride=(1, 1), padding=(1, 1), bias=False)\n",
              "      (bn2): BatchNorm2d(64, eps=1e-05, momentum=0.1, affine=True, track_running_stats=True)\n",
              "      (conv3): Conv2d(64, 256, kernel_size=(1, 1), stride=(1, 1), bias=False)\n",
              "      (bn3): BatchNorm2d(256, eps=1e-05, momentum=0.1, affine=True, track_running_stats=True)\n",
              "      (relu): ReLU(inplace=True)\n",
              "      (downsample): Sequential(\n",
              "        (0): Conv2d(64, 256, kernel_size=(1, 1), stride=(1, 1), bias=False)\n",
              "        (1): BatchNorm2d(256, eps=1e-05, momentum=0.1, affine=True, track_running_stats=True)\n",
              "      )\n",
              "    )\n",
              "    (1): Bottleneck(\n",
              "      (conv1): Conv2d(256, 64, kernel_size=(1, 1), stride=(1, 1), bias=False)\n",
              "      (bn1): BatchNorm2d(64, eps=1e-05, momentum=0.1, affine=True, track_running_stats=True)\n",
              "      (conv2): Conv2d(64, 64, kernel_size=(3, 3), stride=(1, 1), padding=(1, 1), bias=False)\n",
              "      (bn2): BatchNorm2d(64, eps=1e-05, momentum=0.1, affine=True, track_running_stats=True)\n",
              "      (conv3): Conv2d(64, 256, kernel_size=(1, 1), stride=(1, 1), bias=False)\n",
              "      (bn3): BatchNorm2d(256, eps=1e-05, momentum=0.1, affine=True, track_running_stats=True)\n",
              "      (relu): ReLU(inplace=True)\n",
              "    )\n",
              "    (2): Bottleneck(\n",
              "      (conv1): Conv2d(256, 64, kernel_size=(1, 1), stride=(1, 1), bias=False)\n",
              "      (bn1): BatchNorm2d(64, eps=1e-05, momentum=0.1, affine=True, track_running_stats=True)\n",
              "      (conv2): Conv2d(64, 64, kernel_size=(3, 3), stride=(1, 1), padding=(1, 1), bias=False)\n",
              "      (bn2): BatchNorm2d(64, eps=1e-05, momentum=0.1, affine=True, track_running_stats=True)\n",
              "      (conv3): Conv2d(64, 256, kernel_size=(1, 1), stride=(1, 1), bias=False)\n",
              "      (bn3): BatchNorm2d(256, eps=1e-05, momentum=0.1, affine=True, track_running_stats=True)\n",
              "      (relu): ReLU(inplace=True)\n",
              "    )\n",
              "  )\n",
              "  (layer2): Sequential(\n",
              "    (0): Bottleneck(\n",
              "      (conv1): Conv2d(256, 128, kernel_size=(1, 1), stride=(1, 1), bias=False)\n",
              "      (bn1): BatchNorm2d(128, eps=1e-05, momentum=0.1, affine=True, track_running_stats=True)\n",
              "      (conv2): Conv2d(128, 128, kernel_size=(3, 3), stride=(2, 2), padding=(1, 1), bias=False)\n",
              "      (bn2): BatchNorm2d(128, eps=1e-05, momentum=0.1, affine=True, track_running_stats=True)\n",
              "      (conv3): Conv2d(128, 512, kernel_size=(1, 1), stride=(1, 1), bias=False)\n",
              "      (bn3): BatchNorm2d(512, eps=1e-05, momentum=0.1, affine=True, track_running_stats=True)\n",
              "      (relu): ReLU(inplace=True)\n",
              "      (downsample): Sequential(\n",
              "        (0): Conv2d(256, 512, kernel_size=(1, 1), stride=(2, 2), bias=False)\n",
              "        (1): BatchNorm2d(512, eps=1e-05, momentum=0.1, affine=True, track_running_stats=True)\n",
              "      )\n",
              "    )\n",
              "    (1): Bottleneck(\n",
              "      (conv1): Conv2d(512, 128, kernel_size=(1, 1), stride=(1, 1), bias=False)\n",
              "      (bn1): BatchNorm2d(128, eps=1e-05, momentum=0.1, affine=True, track_running_stats=True)\n",
              "      (conv2): Conv2d(128, 128, kernel_size=(3, 3), stride=(1, 1), padding=(1, 1), bias=False)\n",
              "      (bn2): BatchNorm2d(128, eps=1e-05, momentum=0.1, affine=True, track_running_stats=True)\n",
              "      (conv3): Conv2d(128, 512, kernel_size=(1, 1), stride=(1, 1), bias=False)\n",
              "      (bn3): BatchNorm2d(512, eps=1e-05, momentum=0.1, affine=True, track_running_stats=True)\n",
              "      (relu): ReLU(inplace=True)\n",
              "    )\n",
              "    (2): Bottleneck(\n",
              "      (conv1): Conv2d(512, 128, kernel_size=(1, 1), stride=(1, 1), bias=False)\n",
              "      (bn1): BatchNorm2d(128, eps=1e-05, momentum=0.1, affine=True, track_running_stats=True)\n",
              "      (conv2): Conv2d(128, 128, kernel_size=(3, 3), stride=(1, 1), padding=(1, 1), bias=False)\n",
              "      (bn2): BatchNorm2d(128, eps=1e-05, momentum=0.1, affine=True, track_running_stats=True)\n",
              "      (conv3): Conv2d(128, 512, kernel_size=(1, 1), stride=(1, 1), bias=False)\n",
              "      (bn3): BatchNorm2d(512, eps=1e-05, momentum=0.1, affine=True, track_running_stats=True)\n",
              "      (relu): ReLU(inplace=True)\n",
              "    )\n",
              "    (3): Bottleneck(\n",
              "      (conv1): Conv2d(512, 128, kernel_size=(1, 1), stride=(1, 1), bias=False)\n",
              "      (bn1): BatchNorm2d(128, eps=1e-05, momentum=0.1, affine=True, track_running_stats=True)\n",
              "      (conv2): Conv2d(128, 128, kernel_size=(3, 3), stride=(1, 1), padding=(1, 1), bias=False)\n",
              "      (bn2): BatchNorm2d(128, eps=1e-05, momentum=0.1, affine=True, track_running_stats=True)\n",
              "      (conv3): Conv2d(128, 512, kernel_size=(1, 1), stride=(1, 1), bias=False)\n",
              "      (bn3): BatchNorm2d(512, eps=1e-05, momentum=0.1, affine=True, track_running_stats=True)\n",
              "      (relu): ReLU(inplace=True)\n",
              "    )\n",
              "  )\n",
              "  (layer3): Sequential(\n",
              "    (0): Bottleneck(\n",
              "      (conv1): Conv2d(512, 256, kernel_size=(1, 1), stride=(1, 1), bias=False)\n",
              "      (bn1): BatchNorm2d(256, eps=1e-05, momentum=0.1, affine=True, track_running_stats=True)\n",
              "      (conv2): Conv2d(256, 256, kernel_size=(3, 3), stride=(2, 2), padding=(1, 1), bias=False)\n",
              "      (bn2): BatchNorm2d(256, eps=1e-05, momentum=0.1, affine=True, track_running_stats=True)\n",
              "      (conv3): Conv2d(256, 1024, kernel_size=(1, 1), stride=(1, 1), bias=False)\n",
              "      (bn3): BatchNorm2d(1024, eps=1e-05, momentum=0.1, affine=True, track_running_stats=True)\n",
              "      (relu): ReLU(inplace=True)\n",
              "      (downsample): Sequential(\n",
              "        (0): Conv2d(512, 1024, kernel_size=(1, 1), stride=(2, 2), bias=False)\n",
              "        (1): BatchNorm2d(1024, eps=1e-05, momentum=0.1, affine=True, track_running_stats=True)\n",
              "      )\n",
              "    )\n",
              "    (1): Bottleneck(\n",
              "      (conv1): Conv2d(1024, 256, kernel_size=(1, 1), stride=(1, 1), bias=False)\n",
              "      (bn1): BatchNorm2d(256, eps=1e-05, momentum=0.1, affine=True, track_running_stats=True)\n",
              "      (conv2): Conv2d(256, 256, kernel_size=(3, 3), stride=(1, 1), padding=(1, 1), bias=False)\n",
              "      (bn2): BatchNorm2d(256, eps=1e-05, momentum=0.1, affine=True, track_running_stats=True)\n",
              "      (conv3): Conv2d(256, 1024, kernel_size=(1, 1), stride=(1, 1), bias=False)\n",
              "      (bn3): BatchNorm2d(1024, eps=1e-05, momentum=0.1, affine=True, track_running_stats=True)\n",
              "      (relu): ReLU(inplace=True)\n",
              "    )\n",
              "    (2): Bottleneck(\n",
              "      (conv1): Conv2d(1024, 256, kernel_size=(1, 1), stride=(1, 1), bias=False)\n",
              "      (bn1): BatchNorm2d(256, eps=1e-05, momentum=0.1, affine=True, track_running_stats=True)\n",
              "      (conv2): Conv2d(256, 256, kernel_size=(3, 3), stride=(1, 1), padding=(1, 1), bias=False)\n",
              "      (bn2): BatchNorm2d(256, eps=1e-05, momentum=0.1, affine=True, track_running_stats=True)\n",
              "      (conv3): Conv2d(256, 1024, kernel_size=(1, 1), stride=(1, 1), bias=False)\n",
              "      (bn3): BatchNorm2d(1024, eps=1e-05, momentum=0.1, affine=True, track_running_stats=True)\n",
              "      (relu): ReLU(inplace=True)\n",
              "    )\n",
              "    (3): Bottleneck(\n",
              "      (conv1): Conv2d(1024, 256, kernel_size=(1, 1), stride=(1, 1), bias=False)\n",
              "      (bn1): BatchNorm2d(256, eps=1e-05, momentum=0.1, affine=True, track_running_stats=True)\n",
              "      (conv2): Conv2d(256, 256, kernel_size=(3, 3), stride=(1, 1), padding=(1, 1), bias=False)\n",
              "      (bn2): BatchNorm2d(256, eps=1e-05, momentum=0.1, affine=True, track_running_stats=True)\n",
              "      (conv3): Conv2d(256, 1024, kernel_size=(1, 1), stride=(1, 1), bias=False)\n",
              "      (bn3): BatchNorm2d(1024, eps=1e-05, momentum=0.1, affine=True, track_running_stats=True)\n",
              "      (relu): ReLU(inplace=True)\n",
              "    )\n",
              "    (4): Bottleneck(\n",
              "      (conv1): Conv2d(1024, 256, kernel_size=(1, 1), stride=(1, 1), bias=False)\n",
              "      (bn1): BatchNorm2d(256, eps=1e-05, momentum=0.1, affine=True, track_running_stats=True)\n",
              "      (conv2): Conv2d(256, 256, kernel_size=(3, 3), stride=(1, 1), padding=(1, 1), bias=False)\n",
              "      (bn2): BatchNorm2d(256, eps=1e-05, momentum=0.1, affine=True, track_running_stats=True)\n",
              "      (conv3): Conv2d(256, 1024, kernel_size=(1, 1), stride=(1, 1), bias=False)\n",
              "      (bn3): BatchNorm2d(1024, eps=1e-05, momentum=0.1, affine=True, track_running_stats=True)\n",
              "      (relu): ReLU(inplace=True)\n",
              "    )\n",
              "    (5): Bottleneck(\n",
              "      (conv1): Conv2d(1024, 256, kernel_size=(1, 1), stride=(1, 1), bias=False)\n",
              "      (bn1): BatchNorm2d(256, eps=1e-05, momentum=0.1, affine=True, track_running_stats=True)\n",
              "      (conv2): Conv2d(256, 256, kernel_size=(3, 3), stride=(1, 1), padding=(1, 1), bias=False)\n",
              "      (bn2): BatchNorm2d(256, eps=1e-05, momentum=0.1, affine=True, track_running_stats=True)\n",
              "      (conv3): Conv2d(256, 1024, kernel_size=(1, 1), stride=(1, 1), bias=False)\n",
              "      (bn3): BatchNorm2d(1024, eps=1e-05, momentum=0.1, affine=True, track_running_stats=True)\n",
              "      (relu): ReLU(inplace=True)\n",
              "    )\n",
              "  )\n",
              "  (layer4): Sequential(\n",
              "    (0): Bottleneck(\n",
              "      (conv1): Conv2d(1024, 512, kernel_size=(1, 1), stride=(1, 1), bias=False)\n",
              "      (bn1): BatchNorm2d(512, eps=1e-05, momentum=0.1, affine=True, track_running_stats=True)\n",
              "      (conv2): Conv2d(512, 512, kernel_size=(3, 3), stride=(2, 2), padding=(1, 1), bias=False)\n",
              "      (bn2): BatchNorm2d(512, eps=1e-05, momentum=0.1, affine=True, track_running_stats=True)\n",
              "      (conv3): Conv2d(512, 2048, kernel_size=(1, 1), stride=(1, 1), bias=False)\n",
              "      (bn3): BatchNorm2d(2048, eps=1e-05, momentum=0.1, affine=True, track_running_stats=True)\n",
              "      (relu): ReLU(inplace=True)\n",
              "      (downsample): Sequential(\n",
              "        (0): Conv2d(1024, 2048, kernel_size=(1, 1), stride=(2, 2), bias=False)\n",
              "        (1): BatchNorm2d(2048, eps=1e-05, momentum=0.1, affine=True, track_running_stats=True)\n",
              "      )\n",
              "    )\n",
              "    (1): Bottleneck(\n",
              "      (conv1): Conv2d(2048, 512, kernel_size=(1, 1), stride=(1, 1), bias=False)\n",
              "      (bn1): BatchNorm2d(512, eps=1e-05, momentum=0.1, affine=True, track_running_stats=True)\n",
              "      (conv2): Conv2d(512, 512, kernel_size=(3, 3), stride=(1, 1), padding=(1, 1), bias=False)\n",
              "      (bn2): BatchNorm2d(512, eps=1e-05, momentum=0.1, affine=True, track_running_stats=True)\n",
              "      (conv3): Conv2d(512, 2048, kernel_size=(1, 1), stride=(1, 1), bias=False)\n",
              "      (bn3): BatchNorm2d(2048, eps=1e-05, momentum=0.1, affine=True, track_running_stats=True)\n",
              "      (relu): ReLU(inplace=True)\n",
              "    )\n",
              "    (2): Bottleneck(\n",
              "      (conv1): Conv2d(2048, 512, kernel_size=(1, 1), stride=(1, 1), bias=False)\n",
              "      (bn1): BatchNorm2d(512, eps=1e-05, momentum=0.1, affine=True, track_running_stats=True)\n",
              "      (conv2): Conv2d(512, 512, kernel_size=(3, 3), stride=(1, 1), padding=(1, 1), bias=False)\n",
              "      (bn2): BatchNorm2d(512, eps=1e-05, momentum=0.1, affine=True, track_running_stats=True)\n",
              "      (conv3): Conv2d(512, 2048, kernel_size=(1, 1), stride=(1, 1), bias=False)\n",
              "      (bn3): BatchNorm2d(2048, eps=1e-05, momentum=0.1, affine=True, track_running_stats=True)\n",
              "      (relu): ReLU(inplace=True)\n",
              "    )\n",
              "  )\n",
              "  (avgpool): AdaptiveAvgPool2d(output_size=(1, 1))\n",
              "  (fc): Sequential(\n",
              "    (0): Linear(in_features=2048, out_features=1000, bias=True)\n",
              "    (1): ReLU(inplace=True)\n",
              "    (2): Dropout(p=0.2, inplace=False)\n",
              "    (3): Linear(in_features=1000, out_features=1, bias=True)\n",
              "  )\n",
              ")"
            ]
          },
          "metadata": {},
          "execution_count": 14
        }
      ],
      "source": [
        "# загрузить наилучшие веса\n",
        "best_model_weights = r'/content/drive/MyDrive/Eyes_classification/resnet50_best_weights.pth'\n",
        "model.load_state_dict(torch.load(best_model_weights, weights_only=True))\n",
        "model.to(device)"
      ]
    },
    {
      "cell_type": "code",
      "execution_count": null,
      "metadata": {
        "id": "cH_geEcXWNHZ",
        "colab": {
          "base_uri": "https://localhost:8080/",
          "height": 411
        },
        "outputId": "d16a9829-9246-492c-d5cd-2c53994e5c39"
      },
      "outputs": [
        {
          "output_type": "stream",
          "name": "stderr",
          "text": [
            "<ipython-input-5-2b90ff46fbcc>:37: UserWarning: To copy construct from a tensor, it is recommended to use sourceTensor.clone().detach() or sourceTensor.clone().detach().requires_grad_(True), rather than torch.tensor(sourceTensor).\n",
            "  image = torch.tensor(image / 255)\n"
          ]
        },
        {
          "output_type": "error",
          "ename": "KeyboardInterrupt",
          "evalue": "",
          "traceback": [
            "\u001b[0;31m---------------------------------------------------------------------------\u001b[0m",
            "\u001b[0;31mKeyboardInterrupt\u001b[0m                         Traceback (most recent call last)",
            "\u001b[0;32m<ipython-input-15-34e26b8ecd95>\u001b[0m in \u001b[0;36m<cell line: 5>\u001b[0;34m()\u001b[0m\n\u001b[1;32m      3\u001b[0m \u001b[0msigmoid\u001b[0m \u001b[0;34m=\u001b[0m \u001b[0mtorch\u001b[0m\u001b[0;34m.\u001b[0m\u001b[0mnn\u001b[0m\u001b[0;34m.\u001b[0m\u001b[0mSigmoid\u001b[0m\u001b[0;34m(\u001b[0m\u001b[0;34m)\u001b[0m\u001b[0;34m\u001b[0m\u001b[0;34m\u001b[0m\u001b[0m\n\u001b[1;32m      4\u001b[0m \u001b[0mcount\u001b[0m \u001b[0;34m=\u001b[0m \u001b[0;36m0\u001b[0m\u001b[0;34m\u001b[0m\u001b[0;34m\u001b[0m\u001b[0m\n\u001b[0;32m----> 5\u001b[0;31m \u001b[0;32mfor\u001b[0m \u001b[0mbatch\u001b[0m\u001b[0;34m,\u001b[0m\u001b[0;34m(\u001b[0m\u001b[0mX\u001b[0m\u001b[0;34m,\u001b[0m \u001b[0my\u001b[0m\u001b[0;34m)\u001b[0m \u001b[0;32min\u001b[0m \u001b[0menumerate\u001b[0m\u001b[0;34m(\u001b[0m\u001b[0mtest_loader\u001b[0m\u001b[0;34m)\u001b[0m\u001b[0;34m:\u001b[0m\u001b[0;34m\u001b[0m\u001b[0;34m\u001b[0m\u001b[0m\n\u001b[0m\u001b[1;32m      6\u001b[0m       \u001b[0mmodel\u001b[0m\u001b[0;34m.\u001b[0m\u001b[0meval\u001b[0m\u001b[0;34m(\u001b[0m\u001b[0;34m)\u001b[0m\u001b[0;34m\u001b[0m\u001b[0;34m\u001b[0m\u001b[0m\n\u001b[1;32m      7\u001b[0m       \u001b[0mX\u001b[0m\u001b[0;34m,\u001b[0m \u001b[0my\u001b[0m \u001b[0;34m=\u001b[0m \u001b[0mX\u001b[0m\u001b[0;34m.\u001b[0m\u001b[0mto\u001b[0m\u001b[0;34m(\u001b[0m\u001b[0mdevice\u001b[0m\u001b[0;34m)\u001b[0m\u001b[0;34m,\u001b[0m \u001b[0my\u001b[0m\u001b[0;34m.\u001b[0m\u001b[0mto\u001b[0m\u001b[0;34m(\u001b[0m\u001b[0mdevice\u001b[0m\u001b[0;34m)\u001b[0m\u001b[0;34m\u001b[0m\u001b[0;34m\u001b[0m\u001b[0m\n",
            "\u001b[0;32m/usr/local/lib/python3.10/dist-packages/torch/utils/data/dataloader.py\u001b[0m in \u001b[0;36m__next__\u001b[0;34m(self)\u001b[0m\n\u001b[1;32m    628\u001b[0m                 \u001b[0;31m# TODO(https://github.com/pytorch/pytorch/issues/76750)\u001b[0m\u001b[0;34m\u001b[0m\u001b[0;34m\u001b[0m\u001b[0m\n\u001b[1;32m    629\u001b[0m                 \u001b[0mself\u001b[0m\u001b[0;34m.\u001b[0m\u001b[0m_reset\u001b[0m\u001b[0;34m(\u001b[0m\u001b[0;34m)\u001b[0m  \u001b[0;31m# type: ignore[call-arg]\u001b[0m\u001b[0;34m\u001b[0m\u001b[0;34m\u001b[0m\u001b[0m\n\u001b[0;32m--> 630\u001b[0;31m             \u001b[0mdata\u001b[0m \u001b[0;34m=\u001b[0m \u001b[0mself\u001b[0m\u001b[0;34m.\u001b[0m\u001b[0m_next_data\u001b[0m\u001b[0;34m(\u001b[0m\u001b[0;34m)\u001b[0m\u001b[0;34m\u001b[0m\u001b[0;34m\u001b[0m\u001b[0m\n\u001b[0m\u001b[1;32m    631\u001b[0m             \u001b[0mself\u001b[0m\u001b[0;34m.\u001b[0m\u001b[0m_num_yielded\u001b[0m \u001b[0;34m+=\u001b[0m \u001b[0;36m1\u001b[0m\u001b[0;34m\u001b[0m\u001b[0;34m\u001b[0m\u001b[0m\n\u001b[1;32m    632\u001b[0m             \u001b[0;32mif\u001b[0m \u001b[0mself\u001b[0m\u001b[0;34m.\u001b[0m\u001b[0m_dataset_kind\u001b[0m \u001b[0;34m==\u001b[0m \u001b[0m_DatasetKind\u001b[0m\u001b[0;34m.\u001b[0m\u001b[0mIterable\u001b[0m \u001b[0;32mand\u001b[0m\u001b[0;31m \u001b[0m\u001b[0;31m\\\u001b[0m\u001b[0;34m\u001b[0m\u001b[0;34m\u001b[0m\u001b[0m\n",
            "\u001b[0;32m/usr/local/lib/python3.10/dist-packages/torch/utils/data/dataloader.py\u001b[0m in \u001b[0;36m_next_data\u001b[0;34m(self)\u001b[0m\n\u001b[1;32m    671\u001b[0m     \u001b[0;32mdef\u001b[0m \u001b[0m_next_data\u001b[0m\u001b[0;34m(\u001b[0m\u001b[0mself\u001b[0m\u001b[0;34m)\u001b[0m\u001b[0;34m:\u001b[0m\u001b[0;34m\u001b[0m\u001b[0;34m\u001b[0m\u001b[0m\n\u001b[1;32m    672\u001b[0m         \u001b[0mindex\u001b[0m \u001b[0;34m=\u001b[0m \u001b[0mself\u001b[0m\u001b[0;34m.\u001b[0m\u001b[0m_next_index\u001b[0m\u001b[0;34m(\u001b[0m\u001b[0;34m)\u001b[0m  \u001b[0;31m# may raise StopIteration\u001b[0m\u001b[0;34m\u001b[0m\u001b[0;34m\u001b[0m\u001b[0m\n\u001b[0;32m--> 673\u001b[0;31m         \u001b[0mdata\u001b[0m \u001b[0;34m=\u001b[0m \u001b[0mself\u001b[0m\u001b[0;34m.\u001b[0m\u001b[0m_dataset_fetcher\u001b[0m\u001b[0;34m.\u001b[0m\u001b[0mfetch\u001b[0m\u001b[0;34m(\u001b[0m\u001b[0mindex\u001b[0m\u001b[0;34m)\u001b[0m  \u001b[0;31m# may raise StopIteration\u001b[0m\u001b[0;34m\u001b[0m\u001b[0;34m\u001b[0m\u001b[0m\n\u001b[0m\u001b[1;32m    674\u001b[0m         \u001b[0;32mif\u001b[0m \u001b[0mself\u001b[0m\u001b[0;34m.\u001b[0m\u001b[0m_pin_memory\u001b[0m\u001b[0;34m:\u001b[0m\u001b[0;34m\u001b[0m\u001b[0;34m\u001b[0m\u001b[0m\n\u001b[1;32m    675\u001b[0m             \u001b[0mdata\u001b[0m \u001b[0;34m=\u001b[0m \u001b[0m_utils\u001b[0m\u001b[0;34m.\u001b[0m\u001b[0mpin_memory\u001b[0m\u001b[0;34m.\u001b[0m\u001b[0mpin_memory\u001b[0m\u001b[0;34m(\u001b[0m\u001b[0mdata\u001b[0m\u001b[0;34m,\u001b[0m \u001b[0mself\u001b[0m\u001b[0;34m.\u001b[0m\u001b[0m_pin_memory_device\u001b[0m\u001b[0;34m)\u001b[0m\u001b[0;34m\u001b[0m\u001b[0;34m\u001b[0m\u001b[0m\n",
            "\u001b[0;32m/usr/local/lib/python3.10/dist-packages/torch/utils/data/_utils/fetch.py\u001b[0m in \u001b[0;36mfetch\u001b[0;34m(self, possibly_batched_index)\u001b[0m\n\u001b[1;32m     50\u001b[0m                 \u001b[0mdata\u001b[0m \u001b[0;34m=\u001b[0m \u001b[0mself\u001b[0m\u001b[0;34m.\u001b[0m\u001b[0mdataset\u001b[0m\u001b[0;34m.\u001b[0m\u001b[0m__getitems__\u001b[0m\u001b[0;34m(\u001b[0m\u001b[0mpossibly_batched_index\u001b[0m\u001b[0;34m)\u001b[0m\u001b[0;34m\u001b[0m\u001b[0;34m\u001b[0m\u001b[0m\n\u001b[1;32m     51\u001b[0m             \u001b[0;32melse\u001b[0m\u001b[0;34m:\u001b[0m\u001b[0;34m\u001b[0m\u001b[0;34m\u001b[0m\u001b[0m\n\u001b[0;32m---> 52\u001b[0;31m                 \u001b[0mdata\u001b[0m \u001b[0;34m=\u001b[0m \u001b[0;34m[\u001b[0m\u001b[0mself\u001b[0m\u001b[0;34m.\u001b[0m\u001b[0mdataset\u001b[0m\u001b[0;34m[\u001b[0m\u001b[0midx\u001b[0m\u001b[0;34m]\u001b[0m \u001b[0;32mfor\u001b[0m \u001b[0midx\u001b[0m \u001b[0;32min\u001b[0m \u001b[0mpossibly_batched_index\u001b[0m\u001b[0;34m]\u001b[0m\u001b[0;34m\u001b[0m\u001b[0;34m\u001b[0m\u001b[0m\n\u001b[0m\u001b[1;32m     53\u001b[0m         \u001b[0;32melse\u001b[0m\u001b[0;34m:\u001b[0m\u001b[0;34m\u001b[0m\u001b[0;34m\u001b[0m\u001b[0m\n\u001b[1;32m     54\u001b[0m             \u001b[0mdata\u001b[0m \u001b[0;34m=\u001b[0m \u001b[0mself\u001b[0m\u001b[0;34m.\u001b[0m\u001b[0mdataset\u001b[0m\u001b[0;34m[\u001b[0m\u001b[0mpossibly_batched_index\u001b[0m\u001b[0;34m]\u001b[0m\u001b[0;34m\u001b[0m\u001b[0;34m\u001b[0m\u001b[0m\n",
            "\u001b[0;32m/usr/local/lib/python3.10/dist-packages/torch/utils/data/_utils/fetch.py\u001b[0m in \u001b[0;36m<listcomp>\u001b[0;34m(.0)\u001b[0m\n\u001b[1;32m     50\u001b[0m                 \u001b[0mdata\u001b[0m \u001b[0;34m=\u001b[0m \u001b[0mself\u001b[0m\u001b[0;34m.\u001b[0m\u001b[0mdataset\u001b[0m\u001b[0;34m.\u001b[0m\u001b[0m__getitems__\u001b[0m\u001b[0;34m(\u001b[0m\u001b[0mpossibly_batched_index\u001b[0m\u001b[0;34m)\u001b[0m\u001b[0;34m\u001b[0m\u001b[0;34m\u001b[0m\u001b[0m\n\u001b[1;32m     51\u001b[0m             \u001b[0;32melse\u001b[0m\u001b[0;34m:\u001b[0m\u001b[0;34m\u001b[0m\u001b[0;34m\u001b[0m\u001b[0m\n\u001b[0;32m---> 52\u001b[0;31m                 \u001b[0mdata\u001b[0m \u001b[0;34m=\u001b[0m \u001b[0;34m[\u001b[0m\u001b[0mself\u001b[0m\u001b[0;34m.\u001b[0m\u001b[0mdataset\u001b[0m\u001b[0;34m[\u001b[0m\u001b[0midx\u001b[0m\u001b[0;34m]\u001b[0m \u001b[0;32mfor\u001b[0m \u001b[0midx\u001b[0m \u001b[0;32min\u001b[0m \u001b[0mpossibly_batched_index\u001b[0m\u001b[0;34m]\u001b[0m\u001b[0;34m\u001b[0m\u001b[0;34m\u001b[0m\u001b[0m\n\u001b[0m\u001b[1;32m     53\u001b[0m         \u001b[0;32melse\u001b[0m\u001b[0;34m:\u001b[0m\u001b[0;34m\u001b[0m\u001b[0;34m\u001b[0m\u001b[0m\n\u001b[1;32m     54\u001b[0m             \u001b[0mdata\u001b[0m \u001b[0;34m=\u001b[0m \u001b[0mself\u001b[0m\u001b[0;34m.\u001b[0m\u001b[0mdataset\u001b[0m\u001b[0;34m[\u001b[0m\u001b[0mpossibly_batched_index\u001b[0m\u001b[0;34m]\u001b[0m\u001b[0;34m\u001b[0m\u001b[0;34m\u001b[0m\u001b[0m\n",
            "\u001b[0;32m/usr/local/lib/python3.10/dist-packages/torchvision/datasets/folder.py\u001b[0m in \u001b[0;36m__getitem__\u001b[0;34m(self, index)\u001b[0m\n\u001b[1;32m    243\u001b[0m         \"\"\"\n\u001b[1;32m    244\u001b[0m         \u001b[0mpath\u001b[0m\u001b[0;34m,\u001b[0m \u001b[0mtarget\u001b[0m \u001b[0;34m=\u001b[0m \u001b[0mself\u001b[0m\u001b[0;34m.\u001b[0m\u001b[0msamples\u001b[0m\u001b[0;34m[\u001b[0m\u001b[0mindex\u001b[0m\u001b[0;34m]\u001b[0m\u001b[0;34m\u001b[0m\u001b[0;34m\u001b[0m\u001b[0m\n\u001b[0;32m--> 245\u001b[0;31m         \u001b[0msample\u001b[0m \u001b[0;34m=\u001b[0m \u001b[0mself\u001b[0m\u001b[0;34m.\u001b[0m\u001b[0mloader\u001b[0m\u001b[0;34m(\u001b[0m\u001b[0mpath\u001b[0m\u001b[0;34m)\u001b[0m\u001b[0;34m\u001b[0m\u001b[0;34m\u001b[0m\u001b[0m\n\u001b[0m\u001b[1;32m    246\u001b[0m         \u001b[0;32mif\u001b[0m \u001b[0mself\u001b[0m\u001b[0;34m.\u001b[0m\u001b[0mtransform\u001b[0m \u001b[0;32mis\u001b[0m \u001b[0;32mnot\u001b[0m \u001b[0;32mNone\u001b[0m\u001b[0;34m:\u001b[0m\u001b[0;34m\u001b[0m\u001b[0;34m\u001b[0m\u001b[0m\n\u001b[1;32m    247\u001b[0m             \u001b[0msample\u001b[0m \u001b[0;34m=\u001b[0m \u001b[0mself\u001b[0m\u001b[0;34m.\u001b[0m\u001b[0mtransform\u001b[0m\u001b[0;34m(\u001b[0m\u001b[0msample\u001b[0m\u001b[0;34m)\u001b[0m\u001b[0;34m\u001b[0m\u001b[0;34m\u001b[0m\u001b[0m\n",
            "\u001b[0;32m/usr/local/lib/python3.10/dist-packages/torchvision/datasets/folder.py\u001b[0m in \u001b[0;36mdefault_loader\u001b[0;34m(path)\u001b[0m\n\u001b[1;32m    282\u001b[0m         \u001b[0;32mreturn\u001b[0m \u001b[0maccimage_loader\u001b[0m\u001b[0;34m(\u001b[0m\u001b[0mpath\u001b[0m\u001b[0;34m)\u001b[0m\u001b[0;34m\u001b[0m\u001b[0;34m\u001b[0m\u001b[0m\n\u001b[1;32m    283\u001b[0m     \u001b[0;32melse\u001b[0m\u001b[0;34m:\u001b[0m\u001b[0;34m\u001b[0m\u001b[0;34m\u001b[0m\u001b[0m\n\u001b[0;32m--> 284\u001b[0;31m         \u001b[0;32mreturn\u001b[0m \u001b[0mpil_loader\u001b[0m\u001b[0;34m(\u001b[0m\u001b[0mpath\u001b[0m\u001b[0;34m)\u001b[0m\u001b[0;34m\u001b[0m\u001b[0;34m\u001b[0m\u001b[0m\n\u001b[0m\u001b[1;32m    285\u001b[0m \u001b[0;34m\u001b[0m\u001b[0m\n\u001b[1;32m    286\u001b[0m \u001b[0;34m\u001b[0m\u001b[0m\n",
            "\u001b[0;32m/usr/local/lib/python3.10/dist-packages/torchvision/datasets/folder.py\u001b[0m in \u001b[0;36mpil_loader\u001b[0;34m(path)\u001b[0m\n\u001b[1;32m    261\u001b[0m     \u001b[0;31m# open path as file to avoid ResourceWarning (https://github.com/python-pillow/Pillow/issues/835)\u001b[0m\u001b[0;34m\u001b[0m\u001b[0;34m\u001b[0m\u001b[0m\n\u001b[1;32m    262\u001b[0m     \u001b[0;32mwith\u001b[0m \u001b[0mopen\u001b[0m\u001b[0;34m(\u001b[0m\u001b[0mpath\u001b[0m\u001b[0;34m,\u001b[0m \u001b[0;34m\"rb\"\u001b[0m\u001b[0;34m)\u001b[0m \u001b[0;32mas\u001b[0m \u001b[0mf\u001b[0m\u001b[0;34m:\u001b[0m\u001b[0;34m\u001b[0m\u001b[0;34m\u001b[0m\u001b[0m\n\u001b[0;32m--> 263\u001b[0;31m         \u001b[0mimg\u001b[0m \u001b[0;34m=\u001b[0m \u001b[0mImage\u001b[0m\u001b[0;34m.\u001b[0m\u001b[0mopen\u001b[0m\u001b[0;34m(\u001b[0m\u001b[0mf\u001b[0m\u001b[0;34m)\u001b[0m\u001b[0;34m\u001b[0m\u001b[0;34m\u001b[0m\u001b[0m\n\u001b[0m\u001b[1;32m    264\u001b[0m         \u001b[0;32mreturn\u001b[0m \u001b[0mimg\u001b[0m\u001b[0;34m.\u001b[0m\u001b[0mconvert\u001b[0m\u001b[0;34m(\u001b[0m\u001b[0;34m\"RGB\"\u001b[0m\u001b[0;34m)\u001b[0m\u001b[0;34m\u001b[0m\u001b[0;34m\u001b[0m\u001b[0m\n\u001b[1;32m    265\u001b[0m \u001b[0;34m\u001b[0m\u001b[0m\n",
            "\u001b[0;32m/usr/local/lib/python3.10/dist-packages/PIL/Image.py\u001b[0m in \u001b[0;36mopen\u001b[0;34m(fp, mode, formats)\u001b[0m\n\u001b[1;32m   3234\u001b[0m         \u001b[0mexclusive_fp\u001b[0m \u001b[0;34m=\u001b[0m \u001b[0;32mTrue\u001b[0m\u001b[0;34m\u001b[0m\u001b[0;34m\u001b[0m\u001b[0m\n\u001b[1;32m   3235\u001b[0m \u001b[0;34m\u001b[0m\u001b[0m\n\u001b[0;32m-> 3236\u001b[0;31m     \u001b[0mprefix\u001b[0m \u001b[0;34m=\u001b[0m \u001b[0mfp\u001b[0m\u001b[0;34m.\u001b[0m\u001b[0mread\u001b[0m\u001b[0;34m(\u001b[0m\u001b[0;36m16\u001b[0m\u001b[0;34m)\u001b[0m\u001b[0;34m\u001b[0m\u001b[0;34m\u001b[0m\u001b[0m\n\u001b[0m\u001b[1;32m   3237\u001b[0m \u001b[0;34m\u001b[0m\u001b[0m\n\u001b[1;32m   3238\u001b[0m     \u001b[0mpreinit\u001b[0m\u001b[0;34m(\u001b[0m\u001b[0;34m)\u001b[0m\u001b[0;34m\u001b[0m\u001b[0;34m\u001b[0m\u001b[0m\n",
            "\u001b[0;31mKeyboardInterrupt\u001b[0m: "
          ]
        }
      ],
      "source": [
        "y_predict = []\n",
        "y_true = []\n",
        "sigmoid = torch.nn.Sigmoid()\n",
        "count = 0\n",
        "for batch,(X, y) in enumerate(test_loader):\n",
        "      model.eval()\n",
        "      X, y = X.to(device), y.to(device)\n",
        "      output = model(X)\n",
        "      pred = sigmoid(output)\n",
        "      #print(pred)\n",
        "      predictions = (pred > 0.6).long()\n",
        "      #print(predictions)\n",
        "      list_predictions = predictions[:, 0].tolist()\n",
        "      list_y = y[:, 0].tolist()\n",
        "      y_predict += list_predictions\n",
        "      y_true += list_y\n",
        "\n"
      ]
    },
    {
      "cell_type": "code",
      "execution_count": null,
      "metadata": {
        "id": "5RJNsIpRVoZP"
      },
      "outputs": [],
      "source": [
        "import numpy as np\n",
        "from sklearn.metrics import roc_curve\n",
        "\n",
        "fpr, tpr, threshold = roc_curve(y_true, y_predict, pos_label=1)\n",
        "fnr = 1 - tpr\n",
        "eer_threshold = threshold[np.nanargmin(np.absolute((fnr - fpr)))]\n",
        "\n",
        "EER = fpr[np.nanargmin(np.absolute((fnr - fpr)))]\n",
        "print(EER)"
      ]
    },
    {
      "cell_type": "code",
      "execution_count": null,
      "metadata": {
        "colab": {
          "base_uri": "https://localhost:8080/",
          "height": 472
        },
        "id": "EUeV9nmNZ-V2",
        "outputId": "4f478450-eb45-43bd-a515-c11c89c1d33d"
      },
      "outputs": [
        {
          "data": {
            "image/png": "[encoded data removed]",
            "text/plain": [
              "<Figure size 640x480 with 1 Axes>"
            ]
          },
          "metadata": {},
          "output_type": "display_data"
        }
      ],
      "source": [
        "from sklearn.metrics import roc_curve, auc\n",
        "\n",
        "# Calculate ROC curve\n",
        "fpr, tpr, thresholds = roc_curve(y_true, y_predict)\n",
        "roc_auc = auc(fpr, tpr)\n",
        "# Plot the ROC curve\n",
        "plt.figure()\n",
        "plt.plot(fpr, tpr, label='ROC curve (area = %0.2f)' % roc_auc)\n",
        "plt.plot([0, 1], [0, 1], 'k--', label='No Skill')\n",
        "plt.xlim([0.0, 1.0])\n",
        "plt.ylim([0.0, 1.05])\n",
        "plt.xlabel('False Positive Rate')\n",
        "plt.ylabel('True Positive Rate')\n",
        "plt.title('ROC Curve for Breast Cancer Classification')\n",
        "plt.legend()\n",
        "plt.show()"
      ]
    },
    {
      "cell_type": "code",
      "execution_count": null,
      "metadata": {
        "id": "j78jjOTLo9DW",
        "outputId": "7b70ad2c-b1ed-4be7-92a7-bc40b980adf2"
      },
      "outputs": [
        {
          "name": "stdout",
          "output_type": "stream",
          "text": [
            "custom_mobilenet_v3_large_3\n",
            "Confusion Matrix:\n",
            "[[416  18]\n",
            " [ 26 338]]\n",
            "\n",
            "Classification Report : \n",
            "              precision    recall  f1-score   support\n",
            "\n",
            "         0.0       0.94      0.96      0.95       434\n",
            "         1.0       0.95      0.93      0.94       364\n",
            "\n",
            "    accuracy                           0.94       798\n",
            "   macro avg       0.95      0.94      0.94       798\n",
            "weighted avg       0.94      0.94      0.94       798\n",
            "\n",
            "Precision                                   : 0.949\n",
            "Recall                                      : 0.929\n",
            "F1-Score                                    : 0.939\n"
          ]
        }
      ],
      "source": [
        "from sklearn.metrics import classification_report, precision_score, recall_score, f1_score, precision_recall_fscore_support\n",
        "print(model_name)\n",
        "conf_matrix = confusion_matrix(y_true, y_predict)\n",
        "print(\"Confusion Matrix:\")\n",
        "print(conf_matrix)\n",
        "\n",
        "print('\\nClassification Report : ')\n",
        "print(classification_report(y_true, y_predict))\n",
        "\n",
        "print('Precision                                   : %.3f'%precision_score(y_true, y_predict))\n",
        "print('Recall                                      : %.3f'%recall_score(y_true, y_predict))\n",
        "print('F1-Score                                    : %.3f'%f1_score(y_true, y_predict))"
      ]
    },
    {
      "cell_type": "markdown",
      "metadata": {
        "id": "IMQNZifkd_B5"
      },
      "source": [
        "# Визуализация предсказаний"
      ]
    },
    {
      "cell_type": "code",
      "execution_count": null,
      "metadata": {
        "colab": {
          "base_uri": "https://localhost:8080/",
          "height": 846
        },
        "id": "6pc7i3qnd_B5",
        "outputId": "335f55f8-d310-4b27-ab96-60c6b7f82c7f"
      },
      "outputs": [
        {
          "output_type": "stream",
          "name": "stderr",
          "text": [
            "<ipython-input-5-2b90ff46fbcc>:37: UserWarning: To copy construct from a tensor, it is recommended to use sourceTensor.clone().detach() or sourceTensor.clone().detach().requires_grad_(True), rather than torch.tensor(sourceTensor).\n",
            "  image = torch.tensor(image / 255)\n"
          ]
        },
        {
          "output_type": "stream",
          "name": "stdout",
          "text": [
            "\n",
            "\n",
            "\n",
            "\n",
            "\n",
            "\n",
            "\n",
            "\n",
            "\n",
            "\n",
            "\n",
            "\n",
            "\n",
            "\n",
            "\n",
            "\n"
          ]
        },
        {
          "output_type": "display_data",
          "data": {
            "text/plain": [
              "<Figure size 1000x1000 with 16 Axes>"
            ],
            "image/png": "[encoded data removed]"
          },
          "metadata": {}
        }
      ],
      "source": [
        "#prediction from dataloader\n",
        "\n",
        "testBatch = next(iter(test_loader))\n",
        "sigmoid = torch.nn.Sigmoid()\n",
        "fig = plt.figure(\"{} batch\".format('test'),\n",
        "    figsize=(10, 10))\n",
        "# loop over the batch size\n",
        "for i in range(0, BATCH_SIZE):\n",
        "    # create a subplot\n",
        "    ax = plt.subplot(8, 4, i + 1)\n",
        "    true_idx = testBatch[1][i]\n",
        "    print()\n",
        "\n",
        "    model.eval()\n",
        "    input = torch.unsqueeze(testBatch[0][i].to(device), 0)\n",
        "\n",
        "    output = model(input)\n",
        "    output = round(sigmoid(output).item(),2)\n",
        "    image = testBatch[0][i].cpu().numpy()\n",
        "    plt.imshow(image[0], cmap='gray')\n",
        "    plt.title('predict: {}, true:{}'.format(output, true_idx.item()))\n",
        "    plt.axis(\"off\")\n",
        "plt.tight_layout()\n",
        "plt.show()"
      ]
    },
    {
      "cell_type": "code",
      "execution_count": null,
      "metadata": {
        "colab": {
          "base_uri": "https://localhost:8080/",
          "height": 1000
        },
        "id": "RvGkPNMDtmxw",
        "outputId": "8e9fffc1-dac2-47d8-a748-0d785482ad24"
      },
      "outputs": [
        {
          "output_type": "stream",
          "name": "stdout",
          "text": [
            "torch.Size([3, 24, 24])\n",
            "tensor([[[0.5059, 0.4824, 0.4706,  ..., 0.4863, 0.4549, 0.4353],\n",
            "         [0.4980, 0.4745, 0.4627,  ..., 0.5176, 0.4863, 0.4667],\n",
            "         [0.4902, 0.4667, 0.4510,  ..., 0.5490, 0.5176, 0.4980],\n",
            "         ...,\n",
            "         [0.5608, 0.5176, 0.4863,  ..., 0.6196, 0.6039, 0.5922],\n",
            "         [0.5765, 0.5255, 0.4784,  ..., 0.6157, 0.6000, 0.5882],\n",
            "         [0.5843, 0.5255, 0.4745,  ..., 0.6039, 0.5882, 0.5725]],\n",
            "\n",
            "        [[0.5059, 0.4824, 0.4706,  ..., 0.4863, 0.4549, 0.4353],\n",
            "         [0.4980, 0.4745, 0.4627,  ..., 0.5176, 0.4863, 0.4667],\n",
            "         [0.4902, 0.4667, 0.4510,  ..., 0.5490, 0.5176, 0.4980],\n",
            "         ...,\n",
            "         [0.5608, 0.5176, 0.4863,  ..., 0.6196, 0.6039, 0.5922],\n",
            "         [0.5765, 0.5255, 0.4784,  ..., 0.6157, 0.6000, 0.5882],\n",
            "         [0.5843, 0.5255, 0.4745,  ..., 0.6039, 0.5882, 0.5725]],\n",
            "\n",
            "        [[0.5059, 0.4824, 0.4706,  ..., 0.4863, 0.4549, 0.4353],\n",
            "         [0.4980, 0.4745, 0.4627,  ..., 0.5176, 0.4863, 0.4667],\n",
            "         [0.4902, 0.4667, 0.4510,  ..., 0.5490, 0.5176, 0.4980],\n",
            "         ...,\n",
            "         [0.5608, 0.5176, 0.4863,  ..., 0.6196, 0.6039, 0.5922],\n",
            "         [0.5765, 0.5255, 0.4784,  ..., 0.6157, 0.6000, 0.5882],\n",
            "         [0.5843, 0.5255, 0.4745,  ..., 0.6039, 0.5882, 0.5725]]])\n",
            "torch.Size([3, 24, 24])\n",
            "tensor([[[0.7020, 0.7020, 0.7059,  ..., 0.7529, 0.6824, 0.6235],\n",
            "         [0.7216, 0.6941, 0.6588,  ..., 0.7373, 0.6627, 0.5882],\n",
            "         [0.7098, 0.6745, 0.6078,  ..., 0.7373, 0.6471, 0.5490],\n",
            "         ...,\n",
            "         [0.6314, 0.6471, 0.6902,  ..., 0.7451, 0.7412, 0.7412],\n",
            "         [0.6000, 0.6078, 0.6471,  ..., 0.7412, 0.7412, 0.7412],\n",
            "         [0.6706, 0.6471, 0.6392,  ..., 0.7294, 0.7255, 0.7255]],\n",
            "\n",
            "        [[0.7020, 0.7020, 0.7059,  ..., 0.7529, 0.6824, 0.6235],\n",
            "         [0.7216, 0.6941, 0.6588,  ..., 0.7373, 0.6627, 0.5882],\n",
            "         [0.7098, 0.6745, 0.6078,  ..., 0.7373, 0.6471, 0.5490],\n",
            "         ...,\n",
            "         [0.6314, 0.6471, 0.6902,  ..., 0.7451, 0.7412, 0.7412],\n",
            "         [0.6000, 0.6078, 0.6471,  ..., 0.7412, 0.7412, 0.7412],\n",
            "         [0.6706, 0.6471, 0.6392,  ..., 0.7294, 0.7255, 0.7255]],\n",
            "\n",
            "        [[0.7020, 0.7020, 0.7059,  ..., 0.7529, 0.6824, 0.6235],\n",
            "         [0.7216, 0.6941, 0.6588,  ..., 0.7373, 0.6627, 0.5882],\n",
            "         [0.7098, 0.6745, 0.6078,  ..., 0.7373, 0.6471, 0.5490],\n",
            "         ...,\n",
            "         [0.6314, 0.6471, 0.6902,  ..., 0.7451, 0.7412, 0.7412],\n",
            "         [0.6000, 0.6078, 0.6471,  ..., 0.7412, 0.7412, 0.7412],\n",
            "         [0.6706, 0.6471, 0.6392,  ..., 0.7294, 0.7255, 0.7255]]])\n"
          ]
        },
        {
          "output_type": "stream",
          "name": "stderr",
          "text": [
            "/usr/local/lib/python3.10/dist-packages/torchvision/transforms/v2/_deprecated.py:42: UserWarning: The transform `ToTensor()` is deprecated and will be removed in a future release. Instead, please use `v2.Compose([v2.ToImage(), v2.ToDtype(torch.float32, scale=True)])`.Output is equivalent up to float precision.\n",
            "  warnings.warn(\n"
          ]
        },
        {
          "output_type": "stream",
          "name": "stdout",
          "text": [
            "torch.Size([3, 24, 24])\n",
            "tensor([[[0.6118, 0.6000, 0.5843,  ..., 0.4392, 0.4275, 0.4157],\n",
            "         [0.5882, 0.5804, 0.5686,  ..., 0.4431, 0.4275, 0.4118],\n",
            "         [0.5647, 0.5608, 0.5490,  ..., 0.4588, 0.4353, 0.4157],\n",
            "         ...,\n",
            "         [0.4196, 0.4275, 0.4353,  ..., 0.4980, 0.4941, 0.4902],\n",
            "         [0.4118, 0.4196, 0.4314,  ..., 0.5059, 0.4980, 0.4941],\n",
            "         [0.4078, 0.4157, 0.4314,  ..., 0.5059, 0.4980, 0.4941]],\n",
            "\n",
            "        [[0.6118, 0.6000, 0.5843,  ..., 0.4392, 0.4275, 0.4157],\n",
            "         [0.5882, 0.5804, 0.5686,  ..., 0.4431, 0.4275, 0.4118],\n",
            "         [0.5647, 0.5608, 0.5490,  ..., 0.4588, 0.4353, 0.4157],\n",
            "         ...,\n",
            "         [0.4196, 0.4275, 0.4353,  ..., 0.4980, 0.4941, 0.4902],\n",
            "         [0.4118, 0.4196, 0.4314,  ..., 0.5059, 0.4980, 0.4941],\n",
            "         [0.4078, 0.4157, 0.4314,  ..., 0.5059, 0.4980, 0.4941]],\n",
            "\n",
            "        [[0.6118, 0.6000, 0.5843,  ..., 0.4392, 0.4275, 0.4157],\n",
            "         [0.5882, 0.5804, 0.5686,  ..., 0.4431, 0.4275, 0.4118],\n",
            "         [0.5647, 0.5608, 0.5490,  ..., 0.4588, 0.4353, 0.4157],\n",
            "         ...,\n",
            "         [0.4196, 0.4275, 0.4353,  ..., 0.4980, 0.4941, 0.4902],\n",
            "         [0.4118, 0.4196, 0.4314,  ..., 0.5059, 0.4980, 0.4941],\n",
            "         [0.4078, 0.4157, 0.4314,  ..., 0.5059, 0.4980, 0.4941]]])\n",
            "torch.Size([3, 24, 24])\n",
            "tensor([[[0.3137, 0.3098, 0.3059,  ..., 0.2627, 0.2627, 0.2627],\n",
            "         [0.3098, 0.3098, 0.3059,  ..., 0.2588, 0.2627, 0.2627],\n",
            "         [0.3098, 0.3059, 0.3059,  ..., 0.2588, 0.2627, 0.2627],\n",
            "         ...,\n",
            "         [0.3647, 0.3647, 0.3647,  ..., 0.3020, 0.3020, 0.3020],\n",
            "         [0.3569, 0.3569, 0.3569,  ..., 0.3098, 0.3020, 0.2980],\n",
            "         [0.3412, 0.3412, 0.3412,  ..., 0.3137, 0.3020, 0.2941]],\n",
            "\n",
            "        [[0.3137, 0.3098, 0.3059,  ..., 0.2627, 0.2627, 0.2627],\n",
            "         [0.3098, 0.3098, 0.3059,  ..., 0.2588, 0.2627, 0.2627],\n",
            "         [0.3098, 0.3059, 0.3059,  ..., 0.2588, 0.2627, 0.2627],\n",
            "         ...,\n",
            "         [0.3647, 0.3647, 0.3647,  ..., 0.3020, 0.3020, 0.3020],\n",
            "         [0.3569, 0.3569, 0.3569,  ..., 0.3098, 0.3020, 0.2980],\n",
            "         [0.3412, 0.3412, 0.3412,  ..., 0.3137, 0.3020, 0.2941]],\n",
            "\n",
            "        [[0.3137, 0.3098, 0.3059,  ..., 0.2627, 0.2627, 0.2627],\n",
            "         [0.3098, 0.3098, 0.3059,  ..., 0.2588, 0.2627, 0.2627],\n",
            "         [0.3098, 0.3059, 0.3059,  ..., 0.2588, 0.2627, 0.2627],\n",
            "         ...,\n",
            "         [0.3647, 0.3647, 0.3647,  ..., 0.3020, 0.3020, 0.3020],\n",
            "         [0.3569, 0.3569, 0.3569,  ..., 0.3098, 0.3020, 0.2980],\n",
            "         [0.3412, 0.3412, 0.3412,  ..., 0.3137, 0.3020, 0.2941]]])\n",
            "torch.Size([3, 24, 24])\n",
            "tensor([[[0.5294, 0.5216, 0.5137,  ..., 0.4902, 0.4784, 0.4745],\n",
            "         [0.4902, 0.4824, 0.4706,  ..., 0.4902, 0.4784, 0.4706],\n",
            "         [0.4549, 0.4431, 0.4314,  ..., 0.5020, 0.4902, 0.4745],\n",
            "         ...,\n",
            "         [0.3294, 0.3373, 0.3529,  ..., 0.4000, 0.3922, 0.3882],\n",
            "         [0.3451, 0.3490, 0.3608,  ..., 0.3922, 0.3961, 0.4118],\n",
            "         [0.3529, 0.3529, 0.3608,  ..., 0.3804, 0.3922, 0.4118]],\n",
            "\n",
            "        [[0.5294, 0.5216, 0.5137,  ..., 0.4902, 0.4784, 0.4745],\n",
            "         [0.4902, 0.4824, 0.4706,  ..., 0.4902, 0.4784, 0.4706],\n",
            "         [0.4549, 0.4431, 0.4314,  ..., 0.5020, 0.4902, 0.4745],\n",
            "         ...,\n",
            "         [0.3294, 0.3373, 0.3529,  ..., 0.4000, 0.3922, 0.3882],\n",
            "         [0.3451, 0.3490, 0.3608,  ..., 0.3922, 0.3961, 0.4118],\n",
            "         [0.3529, 0.3529, 0.3608,  ..., 0.3804, 0.3922, 0.4118]],\n",
            "\n",
            "        [[0.5294, 0.5216, 0.5137,  ..., 0.4902, 0.4784, 0.4745],\n",
            "         [0.4902, 0.4824, 0.4706,  ..., 0.4902, 0.4784, 0.4706],\n",
            "         [0.4549, 0.4431, 0.4314,  ..., 0.5020, 0.4902, 0.4745],\n",
            "         ...,\n",
            "         [0.3294, 0.3373, 0.3529,  ..., 0.4000, 0.3922, 0.3882],\n",
            "         [0.3451, 0.3490, 0.3608,  ..., 0.3922, 0.3961, 0.4118],\n",
            "         [0.3529, 0.3529, 0.3608,  ..., 0.3804, 0.3922, 0.4118]]])\n",
            "torch.Size([3, 24, 24])\n",
            "tensor([[[0.8157, 0.8275, 0.8275,  ..., 0.6980, 0.7333, 0.7647],\n",
            "         [0.8078, 0.8118, 0.8039,  ..., 0.7020, 0.7255, 0.7529],\n",
            "         [0.8039, 0.8000, 0.7922,  ..., 0.7098, 0.7333, 0.7490],\n",
            "         ...,\n",
            "         [0.8471, 0.8471, 0.8510,  ..., 0.7922, 0.7569, 0.7451],\n",
            "         [0.8471, 0.8471, 0.8510,  ..., 0.8000, 0.7647, 0.7373],\n",
            "         [0.8667, 0.8667, 0.8667,  ..., 0.8157, 0.8078, 0.7804]],\n",
            "\n",
            "        [[0.8157, 0.8275, 0.8275,  ..., 0.6980, 0.7333, 0.7647],\n",
            "         [0.8078, 0.8118, 0.8039,  ..., 0.7020, 0.7255, 0.7529],\n",
            "         [0.8039, 0.8000, 0.7922,  ..., 0.7098, 0.7333, 0.7490],\n",
            "         ...,\n",
            "         [0.8471, 0.8471, 0.8510,  ..., 0.7922, 0.7569, 0.7451],\n",
            "         [0.8471, 0.8471, 0.8510,  ..., 0.8000, 0.7647, 0.7373],\n",
            "         [0.8667, 0.8667, 0.8667,  ..., 0.8157, 0.8078, 0.7804]],\n",
            "\n",
            "        [[0.8157, 0.8275, 0.8275,  ..., 0.6980, 0.7333, 0.7647],\n",
            "         [0.8078, 0.8118, 0.8039,  ..., 0.7020, 0.7255, 0.7529],\n",
            "         [0.8039, 0.8000, 0.7922,  ..., 0.7098, 0.7333, 0.7490],\n",
            "         ...,\n",
            "         [0.8471, 0.8471, 0.8510,  ..., 0.7922, 0.7569, 0.7451],\n",
            "         [0.8471, 0.8471, 0.8510,  ..., 0.8000, 0.7647, 0.7373],\n",
            "         [0.8667, 0.8667, 0.8667,  ..., 0.8157, 0.8078, 0.7804]]])\n",
            "torch.Size([3, 24, 24])\n",
            "tensor([[[0.6000, 0.6196, 0.6275,  ..., 0.4863, 0.5059, 0.5176],\n",
            "         [0.6078, 0.6235, 0.6235,  ..., 0.5490, 0.5529, 0.5451],\n",
            "         [0.6235, 0.6353, 0.6275,  ..., 0.6039, 0.5843, 0.5569],\n",
            "         ...,\n",
            "         [0.9294, 0.8784, 0.7804,  ..., 0.6235, 0.6314, 0.6392],\n",
            "         [0.9529, 0.9294, 0.8510,  ..., 0.6000, 0.6118, 0.6235],\n",
            "         [0.9333, 0.9373, 0.8863,  ..., 0.6196, 0.6353, 0.6510]],\n",
            "\n",
            "        [[0.6000, 0.6196, 0.6275,  ..., 0.4863, 0.5059, 0.5176],\n",
            "         [0.6078, 0.6235, 0.6235,  ..., 0.5490, 0.5529, 0.5451],\n",
            "         [0.6235, 0.6353, 0.6275,  ..., 0.6039, 0.5843, 0.5569],\n",
            "         ...,\n",
            "         [0.9294, 0.8784, 0.7804,  ..., 0.6235, 0.6314, 0.6392],\n",
            "         [0.9529, 0.9294, 0.8510,  ..., 0.6000, 0.6118, 0.6235],\n",
            "         [0.9333, 0.9373, 0.8863,  ..., 0.6196, 0.6353, 0.6510]],\n",
            "\n",
            "        [[0.6000, 0.6196, 0.6275,  ..., 0.4863, 0.5059, 0.5176],\n",
            "         [0.6078, 0.6235, 0.6235,  ..., 0.5490, 0.5529, 0.5451],\n",
            "         [0.6235, 0.6353, 0.6275,  ..., 0.6039, 0.5843, 0.5569],\n",
            "         ...,\n",
            "         [0.9294, 0.8784, 0.7804,  ..., 0.6235, 0.6314, 0.6392],\n",
            "         [0.9529, 0.9294, 0.8510,  ..., 0.6000, 0.6118, 0.6235],\n",
            "         [0.9333, 0.9373, 0.8863,  ..., 0.6196, 0.6353, 0.6510]]])\n",
            "torch.Size([3, 24, 24])\n",
            "tensor([[[0.6627, 0.6902, 0.7020,  ..., 0.7294, 0.7216, 0.7137],\n",
            "         [0.6784, 0.7020, 0.7137,  ..., 0.6941, 0.6824, 0.6706],\n",
            "         [0.6902, 0.7059, 0.7137,  ..., 0.6824, 0.6745, 0.6706],\n",
            "         ...,\n",
            "         [0.7490, 0.7529, 0.7647,  ..., 0.8196, 0.8039, 0.7843],\n",
            "         [0.7569, 0.7529, 0.7608,  ..., 0.8314, 0.8078, 0.7882],\n",
            "         [0.7647, 0.7569, 0.7608,  ..., 0.8235, 0.8039, 0.7843]],\n",
            "\n",
            "        [[0.6627, 0.6902, 0.7020,  ..., 0.7294, 0.7216, 0.7137],\n",
            "         [0.6784, 0.7020, 0.7137,  ..., 0.6941, 0.6824, 0.6706],\n",
            "         [0.6902, 0.7059, 0.7137,  ..., 0.6824, 0.6745, 0.6706],\n",
            "         ...,\n",
            "         [0.7490, 0.7529, 0.7647,  ..., 0.8196, 0.8039, 0.7843],\n",
            "         [0.7569, 0.7529, 0.7608,  ..., 0.8314, 0.8078, 0.7882],\n",
            "         [0.7647, 0.7569, 0.7608,  ..., 0.8235, 0.8039, 0.7843]],\n",
            "\n",
            "        [[0.6627, 0.6902, 0.7020,  ..., 0.7294, 0.7216, 0.7137],\n",
            "         [0.6784, 0.7020, 0.7137,  ..., 0.6941, 0.6824, 0.6706],\n",
            "         [0.6902, 0.7059, 0.7137,  ..., 0.6824, 0.6745, 0.6706],\n",
            "         ...,\n",
            "         [0.7490, 0.7529, 0.7647,  ..., 0.8196, 0.8039, 0.7843],\n",
            "         [0.7569, 0.7529, 0.7608,  ..., 0.8314, 0.8078, 0.7882],\n",
            "         [0.7647, 0.7569, 0.7608,  ..., 0.8235, 0.8039, 0.7843]]])\n",
            "torch.Size([3, 24, 24])\n",
            "tensor([[[0.2471, 0.2549, 0.2431,  ..., 0.3451, 0.3804, 0.4078],\n",
            "         [0.2510, 0.2588, 0.2510,  ..., 0.3412, 0.3804, 0.4078],\n",
            "         [0.2510, 0.2588, 0.2549,  ..., 0.3373, 0.3765, 0.4039],\n",
            "         ...,\n",
            "         [0.2863, 0.2941, 0.3098,  ..., 0.7882, 0.8353, 0.8706],\n",
            "         [0.2980, 0.3059, 0.3176,  ..., 0.8118, 0.8510, 0.8784],\n",
            "         [0.3059, 0.3098, 0.3255,  ..., 0.8196, 0.8510, 0.8784]],\n",
            "\n",
            "        [[0.2471, 0.2549, 0.2431,  ..., 0.3451, 0.3804, 0.4078],\n",
            "         [0.2510, 0.2588, 0.2510,  ..., 0.3412, 0.3804, 0.4078],\n",
            "         [0.2510, 0.2588, 0.2549,  ..., 0.3373, 0.3765, 0.4039],\n",
            "         ...,\n",
            "         [0.2863, 0.2941, 0.3098,  ..., 0.7882, 0.8353, 0.8706],\n",
            "         [0.2980, 0.3059, 0.3176,  ..., 0.8118, 0.8510, 0.8784],\n",
            "         [0.3059, 0.3098, 0.3255,  ..., 0.8196, 0.8510, 0.8784]],\n",
            "\n",
            "        [[0.2471, 0.2549, 0.2431,  ..., 0.3451, 0.3804, 0.4078],\n",
            "         [0.2510, 0.2588, 0.2510,  ..., 0.3412, 0.3804, 0.4078],\n",
            "         [0.2510, 0.2588, 0.2549,  ..., 0.3373, 0.3765, 0.4039],\n",
            "         ...,\n",
            "         [0.2863, 0.2941, 0.3098,  ..., 0.7882, 0.8353, 0.8706],\n",
            "         [0.2980, 0.3059, 0.3176,  ..., 0.8118, 0.8510, 0.8784],\n",
            "         [0.3059, 0.3098, 0.3255,  ..., 0.8196, 0.8510, 0.8784]]])\n",
            "torch.Size([3, 24, 24])\n",
            "tensor([[[0.6039, 0.6353, 0.6745,  ..., 0.6588, 0.7059, 0.7412],\n",
            "         [0.6588, 0.6745, 0.6980,  ..., 0.6588, 0.6902, 0.7098],\n",
            "         [0.6902, 0.6863, 0.6902,  ..., 0.6667, 0.6745, 0.6784],\n",
            "         ...,\n",
            "         [0.6510, 0.6510, 0.6510,  ..., 0.6039, 0.5961, 0.5922],\n",
            "         [0.6549, 0.6549, 0.6549,  ..., 0.6078, 0.6039, 0.6039],\n",
            "         [0.6667, 0.6706, 0.6706,  ..., 0.6196, 0.6196, 0.6235]],\n",
            "\n",
            "        [[0.6039, 0.6353, 0.6745,  ..., 0.6588, 0.7059, 0.7412],\n",
            "         [0.6588, 0.6745, 0.6980,  ..., 0.6588, 0.6902, 0.7098],\n",
            "         [0.6902, 0.6863, 0.6902,  ..., 0.6667, 0.6745, 0.6784],\n",
            "         ...,\n",
            "         [0.6510, 0.6510, 0.6510,  ..., 0.6039, 0.5961, 0.5922],\n",
            "         [0.6549, 0.6549, 0.6549,  ..., 0.6078, 0.6039, 0.6039],\n",
            "         [0.6667, 0.6706, 0.6706,  ..., 0.6196, 0.6196, 0.6235]],\n",
            "\n",
            "        [[0.6039, 0.6353, 0.6745,  ..., 0.6588, 0.7059, 0.7412],\n",
            "         [0.6588, 0.6745, 0.6980,  ..., 0.6588, 0.6902, 0.7098],\n",
            "         [0.6902, 0.6863, 0.6902,  ..., 0.6667, 0.6745, 0.6784],\n",
            "         ...,\n",
            "         [0.6510, 0.6510, 0.6510,  ..., 0.6039, 0.5961, 0.5922],\n",
            "         [0.6549, 0.6549, 0.6549,  ..., 0.6078, 0.6039, 0.6039],\n",
            "         [0.6667, 0.6706, 0.6706,  ..., 0.6196, 0.6196, 0.6235]]])\n"
          ]
        },
        {
          "output_type": "display_data",
          "data": {
            "text/plain": [
              "<Figure size 500x3000 with 10 Axes>"
            ],
            "image/png": "[encoded data removed]"
          },
          "metadata": {}
        }
      ],
      "source": [
        "#prediction from dataset\n",
        "sigmoid = torch.nn.Sigmoid()\n",
        "plt.figure(figsize=(5, 30))\n",
        "for index in range(10):\n",
        "    current_image = eyes_dataset_train[index][0]\n",
        "    print(np.shape(current_image))\n",
        "    print(current_image)\n",
        "    transform = v2.Compose([v2.ToTensor()])\n",
        "    tensor = transform(current_image)\n",
        "    input = torch.tensor([np.array(tensor) / 255])\n",
        "    input_image = input.float().to(device)\n",
        "    output = round(sigmoid(model(input_image)).item(), 5)\n",
        "    plt.subplot(10, 1, index+1)\n",
        "    plt.title(f\"label: {output}\")\n",
        "    plt.axis(\"off\")\n",
        "    plt.imshow(current_image[0], cmap='gray')\n",
        "plt.show()"
      ]
    },
    {
      "cell_type": "code",
      "source": [
        "image_pth = '/content/drive/MyDrive/Eyes_classification/EyesDataset_labled2/test/0/000015.jpg'\n",
        "im = Image.open(image_pth) #24x2\n",
        "transform = v2.Compose([v2.ToTensor()])\n",
        "tensor = transform(im)\n",
        "print(np.shape(tensor))\n",
        "#print(tensor)\n",
        "rgb_batch = np.repeat(tensor[..., np.newaxis], 3, 0)\n",
        "print(np.shape(rgb_batch))\n",
        "rgb_batch = torch.squeeze(rgb_batch, 3)\n",
        "print(np.shape(rgb_batch))\n",
        "input = torch.tensor([np.array(rgb_batch) / 255])\n",
        "print(np.shape(input))\n",
        "input_image = input.float().to(device)\n",
        "output = round(sigmoid(model(input_image)).item(), 5)"
      ],
      "metadata": {
        "colab": {
          "base_uri": "https://localhost:8080/"
        },
        "id": "_nXnbpJHpEv6",
        "outputId": "5590f1f1-6977-4185-c7f2-c65698646dce"
      },
      "execution_count": null,
      "outputs": [
        {
          "output_type": "stream",
          "name": "stdout",
          "text": [
            "torch.Size([1, 24, 24])\n",
            "torch.Size([3, 24, 24, 1])\n",
            "torch.Size([3, 24, 24])\n",
            "torch.Size([1, 3, 24, 24])\n"
          ]
        }
      ]
    },
    {
      "cell_type": "code",
      "source": [
        "output"
      ],
      "metadata": {
        "colab": {
          "base_uri": "https://localhost:8080/"
        },
        "id": "ZuhX3hGYrUY2",
        "outputId": "41e36fde-07bd-438a-e783-b6070891ba80"
      },
      "execution_count": null,
      "outputs": [
        {
          "output_type": "execute_result",
          "data": {
            "text/plain": [
              "1e-05"
            ]
          },
          "metadata": {},
          "execution_count": 70
        }
      ]
    },
    {
      "cell_type": "code",
      "source": [
        "from PIL import Image\n",
        "k=0\n",
        "sigmoid = torch.nn.Sigmoid()\n",
        "model.eval()\n",
        "\n",
        "plt.figure(figsize=(10, 10))\n",
        "test_folder = '/content/drive/MyDrive/Eyes_classification/EyesDataset_labled2/test'\n",
        "for i in ['0', '1']:\n",
        "  if i=='0':\n",
        "    #FP: true =0 , predict=1\n",
        "    #FN: true =1, predict=0\n",
        "    for image_name in os.listdir(os.path.join(test_folder,i)):\n",
        "\n",
        "      im = Image.open(os.path.join(test_folder, i, image_name))\n",
        "      transform = v2.Compose([v2.ToTensor()])\n",
        "      tensor = transform(im)\n",
        "      rgb_batch = np.repeat(tensor[..., np.newaxis], 3, 0)\n",
        "      rgb_batch = torch.squeeze(rgb_batch, 3)\n",
        "      input = torch.tensor([np.array(rgb_batch) / 255])\n",
        "      input_image = input.float().to(device)\n",
        "      output = round(sigmoid(model(input_image)).item(), 5)\n",
        "\n",
        "      if output>0.6 and int(i)==0:\n",
        "        ax = plt.subplot(4, 4, k + 1)\n",
        "        plt.imshow(im, cmap='gray')\n",
        "        plt.title('predict: {}, true:{}'.format(output, int(i)))\n",
        "        plt.axis(\"off\")\n",
        "        k +=1\n",
        "        if k==16:\n",
        "          break\n",
        "      if output<0.6 and int(i)==1:\n",
        "        ax = plt.subplot(4, 4, k + 1)\n",
        "        plt.imshow(im, cmap='gray')\n",
        "        plt.title('predict: {}, true:{}'.format(output, int(i)))\n",
        "        plt.axis(\"off\")\n",
        "        k +=1\n",
        "        if k==16:\n",
        "          break\n",
        "plt.tight_layout()\n",
        "plt.show()"
      ],
      "metadata": {
        "colab": {
          "base_uri": "https://localhost:8080/",
          "height": 760
        },
        "id": "76pLltxpeLSA",
        "outputId": "6fd035f3-4dc9-4b2b-d215-8f03403b97a6"
      },
      "execution_count": null,
      "outputs": [
        {
          "output_type": "display_data",
          "data": {
            "text/plain": [
              "<Figure size 1000x1000 with 12 Axes>"
            ],
            "image/png": "[encoded data removed]"
          },
          "metadata": {}
        }
      ]
    },
    {
      "cell_type": "code",
      "source": [
        "    plt.imshow(image[0], cmap='gray')\n",
        "    plt.title('predict: {}, true:{}'.format(output, true_idx.item()))\n",
        "    plt.axis(\"off\")\n",
        "plt.tight_layout()\n",
        "plt.show()"
      ],
      "metadata": {
        "id": "vvFZxlewfBBt"
      },
      "execution_count": null,
      "outputs": []
    },
    {
      "cell_type": "code",
      "source": [],
      "metadata": {
        "id": "1eS-F7Ztui2A"
      },
      "execution_count": null,
      "outputs": []
    },
    {
      "cell_type": "code",
      "source": [
        "import torch\n",
        "from torchvision.transforms import v2\n",
        "from PIL import Image\n",
        "\n",
        "class OpenEyesClassificator():\n",
        "  def __init__(self):\n",
        "\n",
        "\n",
        "    self.sigmoid = torch.nn.Sigmoid()\n",
        "    device = torch.device('cuda' if torch.cuda.is_available() else 'cpu')\n",
        "    best_model_weights = 'resnet50_best_weights.pth'\n",
        "    model.load_state_dict(torch.load(best_model_weights, weights_only=True))\n",
        "    model.to(device)\n",
        "    self.model = model\n",
        "\n",
        "    def custom_resnet50(self):\n",
        "\n",
        "        model = torchvision.models.resnet50(pretrained = True, progress=True)\n",
        "        model.fc = torch.nn.Sequential(\n",
        "        torch.nn.Linear(in_features=2048, out_features=1000, bias=True),\n",
        "        torch.nn.ReLU(inplace=True),\n",
        "        torch.nn.Dropout(p=0.2, inplace=False),\n",
        "        torch.nn.Linear(in_features=1000, out_features=1, bias=True)\n",
        "    )\n",
        "    return model\n",
        "\n",
        "    model = custom_resnet50()\n",
        "\n",
        "    def predict(self, inpIm):\n",
        "\n",
        "      self.model.eval()\n",
        "      #загрузить изображение\n",
        "      im = Image.open(inpIm)\n",
        "      transform = v2.Compose([v2.ToTensor()])\n",
        "      tensor = transform(im)\n",
        "      #продублировать чб изображение 3 раза для имитации RGB\n",
        "      rgb_batch = np.repeat(tensor[..., np.newaxis], 3, 0)\n",
        "      rgb_batch = torch.squeeze(rgb_batch, 3)\n",
        "      #нормализовать\n",
        "      input = torch.tensor([np.array(rgb_batch) / 255])\n",
        "\n",
        "      input_image = input.float().to(device)\n",
        "      is_open_score = round(self.sigmoid(model(input_image)).item(), 5)\n",
        "\n",
        "      return is_open_score\n"
      ],
      "metadata": {
        "id": "R9PsVIoiuJs9"
      },
      "execution_count": null,
      "outputs": []
    }
  ],
  "metadata": {
    "accelerator": "GPU",
    "colab": {
      "gpuType": "T4",
      "provenance": []
    },
    "kernelspec": {
      "display_name": "Python 3",
      "name": "python3"
    },
    "language_info": {
      "codemirror_mode": {
        "name": "ipython",
        "version": 3
      },
      "file_extension": ".py",
      "mimetype": "text/x-python",
      "name": "python",
      "nbconvert_exporter": "python",
      "pygments_lexer": "ipython3",
      "version": "3.12.6"
    }
  },
  "nbformat": 4,
  "nbformat_minor": 0
}